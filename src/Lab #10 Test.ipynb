{
 "cells": [
  {
   "cell_type": "code",
   "execution_count": 1,
   "metadata": {},
   "outputs": [],
   "source": [
    "%loadFromPOM pom.xml\n",
    "%classpath C:\\\\Project\\\\HAPI-fhir-Lab\n",
    "%classpath \"C:\\\\Project\\\\bmain\\\\target\\\\FhirUtils-1.0-SNAPSHOT.jar\""
   ]
  },
  {
   "cell_type": "code",
   "execution_count": 2,
   "metadata": {},
   "outputs": [],
   "source": [
    "import ca.uhn.fhir.context.FhirContext;\n",
    "import ca.uhn.fhir.rest.client.api.*;\n",
    "import ca.uhn.fhir.rest.api.MethodOutcome;\n",
    "import ca.uhn.fhir.validation.*;\n",
    "import org.hl7.fhir.r4.model.*;\n",
    "import org.hl7.fhir.common.hapi.validation.validator.*;\n",
    "import org.hl7.fhir.common.hapi.validation.support.*;\n",
    "import ca.uhn.fhir.context.support.*;\n",
    "import java.nio.file.*;\n",
    "import com.bmain.*;"
   ]
  },
  {
   "cell_type": "code",
   "execution_count": 3,
   "metadata": {},
   "outputs": [],
   "source": [
    "FhirContext ctx = FhirContext.forR4();\n",
    "String serverBase = \"http://localhost:8080/fhir\";\n",
    "IGenericClient client = ctx.newRestfulGenericClient(serverBase);"
   ]
  },
  {
   "cell_type": "code",
   "execution_count": 4,
   "metadata": {},
   "outputs": [],
   "source": [
    "// call readAndValidateFhirResource\n",
    "FhirUtils fu = new FhirUtils();\n",
    "FhirValidator val = fu.createFhirValidator(ctx,\"classpath:profiles/tw-core-ig-v0.1.1.tgz\");"
   ]
  },
  {
   "cell_type": "code",
   "execution_count": 5,
   "metadata": {},
   "outputs": [
    {
     "name": "stdout",
     "output_type": "stream",
     "text": [
      "\n",
      "Validation failed for Organization\n",
      "Organization.extension[0] Unknown extension http://synthetichealth.github.io/synthea/utilization-encounters-extension\n",
      "Organization.extension[1] Unknown extension http://synthetichealth.github.io/synthea/utilization-procedures-extension\n",
      "Organization.extension[2] Unknown extension http://synthetichealth.github.io/synthea/utilization-labs-extension\n",
      "Organization.extension[3] Unknown extension http://synthetichealth.github.io/synthea/utilization-prescriptions-extension\n",
      "Organization.identifier[0].system Value is 'https://github.com/synthetichealth/synthea' but must be 'https://twcore.mohw.gov.tw/ig/twcore/CodeSystem/organization-identifier-tw'\n",
      "\n",
      "TW Core IG尚未定義-Location\n",
      "\n",
      "Validation passed for Practitioner\n"
     ]
    }
   ],
   "source": [
    "// Resource Profiles Hashmap for Organization\n",
    "Map<String, String> resourceProfiles = new HashMap<>();\n",
    "resourceProfiles.put(\"Organization\", \"https://twcore.mohw.gov.tw/ig/twcore/StructureDefinition/Organization-hosp-twcore\");\n",
    "\n",
    "// Resource Validated Hashmap for Organization\n",
    "Map<String,Boolean> resourceValidated = new HashMap<>();\n",
    "resourceValidated.put(\"Organization\", false);\n",
    "\n",
    "// call readAndValidateFhirResource\n",
    "fu.readAndValidateFhirResource(ctx, val, \"C:\\\\Project\\\\HAPI-fhir-Lab\\\\synthetic-data\\\\fhir\\\\hospitalInformation.json\", resourceProfiles, resourceValidated);\n",
    "\n",
    "// Resource Profiles Hashmap for Practitioner\n",
    "Map<String, String> resourceProfiles = new HashMap<>();\n",
    "resourceProfiles.put(\"Practitioner\", \"https://twcore.mohw.gov.tw/ig/twcore/StructureDefinition/Practitioner-twcore\");\n",
    "\n",
    "// Resource Validated Hashmap for Practitioner\n",
    "Map<String,Boolean> resourceValidated = new HashMap<>();\n",
    "resourceValidated.put(\"Practitioner\", false);\n",
    "\n",
    "fu.readAndValidateFhirResource(ctx, val, \"C:\\\\Project\\\\HAPI-fhir-Lab\\\\synthetic-data\\\\fhir\\\\practitionerInformation.json\", resourceProfiles, resourceValidated);\n"
   ]
  },
  {
   "cell_type": "code",
   "execution_count": null,
   "metadata": {},
   "outputs": [],
   "source": []
  }
 ],
 "metadata": {
  "kernelspec": {
   "display_name": "Java",
   "language": "java",
   "name": "java"
  },
  "language_info": {
   "codemirror_mode": "java",
   "file_extension": ".jshell",
   "mimetype": "text/x-java-source",
   "name": "java",
   "pygments_lexer": "java",
   "version": "17.0.9+11-LTS-201"
  }
 },
 "nbformat": 4,
 "nbformat_minor": 2
}
