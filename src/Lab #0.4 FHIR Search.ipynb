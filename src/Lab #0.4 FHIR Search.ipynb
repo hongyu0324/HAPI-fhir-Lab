{
 "cells": [
  {
   "cell_type": "markdown",
   "metadata": {},
   "source": [
    "Initial Environment"
   ]
  },
  {
   "cell_type": "code",
   "execution_count": 2,
   "metadata": {
    "vscode": {
     "languageId": "java"
    }
   },
   "outputs": [],
   "source": [
    "%loadFromPOM pom.xml"
   ]
  },
  {
   "cell_type": "code",
   "execution_count": 3,
   "metadata": {
    "vscode": {
     "languageId": "java"
    }
   },
   "outputs": [],
   "source": [
    "import ca.uhn.fhir.context.FhirContext;\n",
    "import ca.uhn.fhir.rest.client.api.IGenericClient;\n",
    "import ca.uhn.fhir.rest.api.MethodOutcome;\n",
    "import org.hl7.fhir.r4.model.*;"
   ]
  },
  {
   "cell_type": "code",
   "execution_count": 4,
   "metadata": {
    "vscode": {
     "languageId": "java"
    }
   },
   "outputs": [],
   "source": [
    "FhirContext ctx = FhirContext.forR4();\n",
    "String serverBase = \"http://localhost:8080/fhir\";\n",
    "IGenericClient client = ctx.newRestfulGenericClient(serverBase);"
   ]
  },
  {
   "cell_type": "markdown",
   "metadata": {},
   "source": [
    "Search - By Type"
   ]
  },
  {
   "cell_type": "code",
   "execution_count": 6,
   "metadata": {
    "vscode": {
     "languageId": "java"
    }
   },
   "outputs": [
    {
     "name": "stdout",
     "output_type": "stream",
     "text": [
      "12\n"
     ]
    }
   ],
   "source": [
    "// query using the generic client\n",
    "Bundle response = client.search()\n",
    "      .forResource(Patient.class)\n",
    "      .where(Patient.BIRTHDATE.beforeOrEquals().day(\"1949-01-01\"))\n",
    "      .and(Patient.GENERAL_PRACTITIONER.hasChainedProperty(\n",
    "            Organization.NAME.matches().value(\"東部醫療網路\")))\n",
    "      .returnBundle(Bundle.class)\n",
    "      .execute();\n",
    "// print the count of resources in the bundle\n",
    "System.out.println(response.getTotal());"
   ]
  },
  {
   "cell_type": "markdown",
   "metadata": {},
   "source": [
    "Forward Chaining\n",
    "\n",
    "Resource type A (“WHAT”) has a query parameter of type ‘reference’ to resource type B\n",
    "\n",
    "All query parameters for resource type B can be accessed via ‘chaining’\n",
    "\n",
    "條件一：Resource A的search parameter包含一類型為reference(Resource B)\n",
    "\n",
    "條件二：以類型B的任一Search parameter當作搜尋條件\n",
    "\n",
    "舉例：Encounter的search parameter中，Patient為reference，即可使用Patient的search parameter \"NAME\"，尋找符合姓名搜尋條件之所有Encounter資料。(實務上，這是一個Master-Detail的觀念，一般假設搜尋結果為一對多；若搜尋結果為多對多，則後續必須針對搜尋結果作後處理。例如一個Patient有多個Encounter，一個Encounter有多個Condition)"
   ]
  },
  {
   "cell_type": "code",
   "execution_count": 5,
   "metadata": {
    "vscode": {
     "languageId": "java"
    }
   },
   "outputs": [
    {
     "name": "stdout",
     "output_type": "stream",
     "text": [
      "http://localhost:8080/fhir/Patient/34486/_history/2\n",
      "http://localhost:8080/fhir/Encounter/35184/_history/1\n",
      "http://localhost:8080/fhir/Condition/35185/_history/1\n",
      "http://localhost:8080/fhir/Condition/35186/_history/1\n"
     ]
    }
   ],
   "source": [
    "// search patient Sanford861, Maile198\n",
    "Bundle response = client.search()\n",
    "      .forResource(Patient.class)\n",
    "      .where(Patient.NAME.matches().value(\"Sanford861\"))\n",
    "      .and(Patient.NAME.matches().value(\"Maile198\"))\n",
    "      .returnBundle(Bundle.class)\n",
    "      .execute();\n",
    "// print patient information\n",
    "for (Bundle.BundleEntryComponent entry : response.getEntry()) {\n",
    "    Patient patient = (Patient) entry.getResource();\n",
    "    System.out.println(patient.getId());\n",
    "}\n",
    "\n",
    "// search 2023-02-03 的當天，Sanford861, Maile198的Encounter資料 \n",
    "// Encounter?date=2023-02-03&patient.name=Sanford861, Maile198\n",
    "Bundle response = client.search()\n",
    "      .forResource(Encounter.class)\n",
    "      .where(Encounter.DATE.exactly().day(\"2023-02-03\"))\n",
    "      .and(Encounter.PATIENT.hasChainedProperty(Patient.NAME.matches().value(\"Sanford861\")))\n",
    "      .and(Encounter.PATIENT.hasChainedProperty(Patient.NAME.matches().value(\"Maile198\")))\n",
    "      .returnBundle(Bundle.class)\n",
    "      .execute();\n",
    "\n",
    "// print encounter information\n",
    "Encounter encounter = null;\n",
    "for (Bundle.BundleEntryComponent entry : response.getEntry()) {\n",
    "    encounter = (Encounter) entry.getResource();\n",
    "    System.out.println(encounter.getId());\n",
    "}\n",
    "\n",
    "// search 2023-02-03 的當天，Sanford861, Maile198的所有Condition資料\n",
    "// Condition?encounter.date=2023-02-03&encounter.patient.name=Sanford861, Maile198\n",
    "\n",
    "Reference encounterRef = new Reference(\"Encounter/\" + encounter.getIdElement().getIdPart());\n",
    "Bundle response = client.search()\n",
    "      .forResource(Condition.class)\n",
    "      .where(Condition.ENCOUNTER.hasChainedProperty(Encounter.DATE.exactly().day(\"2023-02-03\")))\n",
    "      .and(Condition.ENCOUNTER.hasChainedProperty(Encounter.PATIENT.hasChainedProperty(\n",
    "            Patient.NAME.matches().value(\"Sanford861\"))))\n",
    "      .and(Condition.ENCOUNTER.hasChainedProperty(Encounter.PATIENT.hasChainedProperty(\n",
    "            Patient.NAME.matches().value(\"Maile198\"))))\n",
    "      .returnBundle(Bundle.class)\n",
    "      .execute();\n",
    "\n",
    "// print condition information\n",
    "for (Bundle.BundleEntryComponent entry : response.getEntry()) {\n",
    "    Condition condition = (Condition) entry.getResource();\n",
    "    System.out.println(condition.getId());\n",
    "}"
   ]
  },
  {
   "cell_type": "markdown",
   "metadata": {},
   "source": [
    "Search - By plain URL(Reverse Chaining)\n",
    "\n",
    "This can be useful if you have a URL you retrieved from somewhere else that you want to use as a search. This can also be useful if you need to make a search that isn't presently supported by one of the existing fluent methods (e.g. reverse chaining with _has).\n",
    "\n",
    "Reverse Chaining為Forward Chaining的反向操作， FHIR API使用\"_has\"實作。使用情境為指定Detail狀態，取得符合該狀態的Master清單。例如想知道符合Condition code為314529007(SNOMED-CT 代碼系統中的 “藥物審查到期” - Medication review due)的病患清單，即可使用reverse chaining. 由於HAPI FHIR Java SDK並未實作\"_has\"，因此使用Plain URL為替代方案。"
   ]
  },
  {
   "cell_type": "code",
   "execution_count": 6,
   "metadata": {
    "vscode": {
     "languageId": "java"
    }
   },
   "outputs": [
    {
     "name": "stdout",
     "output_type": "stream",
     "text": [
      "http://localhost:8080/fhir/Patient/24313/_history/2\n",
      "http://localhost:8080/fhir/Patient/25006/_history/2\n",
      "http://localhost:8080/fhir/Patient/25302/_history/2\n",
      "http://localhost:8080/fhir/Patient/25553/_history/2\n",
      "http://localhost:8080/fhir/Patient/25841/_history/2\n",
      "http://localhost:8080/fhir/Patient/33641/_history/2\n",
      "http://localhost:8080/fhir/Patient/34486/_history/2\n",
      "http://localhost:8080/fhir/Patient/35251/_history/2\n",
      "http://localhost:8080/fhir/Patient/35280/_history/2\n",
      "http://localhost:8080/fhir/Patient/35577/_history/2\n",
      "http://localhost:8080/fhir/Patient/37136/_history/2\n",
      "http://localhost:8080/fhir/Patient/26404/_history/2\n",
      "http://localhost:8080/fhir/Patient/37829/_history/2\n"
     ]
    }
   ],
   "source": [
    "//GET [base]/Patient?_has:Condition:patient:code:314529007\n",
    "//取得Condition的code為314529007的Patient資料\n",
    "//目前沒有實作_has參數，所以用以下方式取得 \n",
    "\n",
    "Bundle response = client.search()\n",
    "      .byUrl(\"Patient?_has:Condition:patient:code=314529007\")\n",
    "      .returnBundle(Bundle.class)\n",
    "      .execute();\n",
    "\n",
    "// print patient information\n",
    "for (Bundle.BundleEntryComponent entry : response.getEntry()) {\n",
    "    Patient patient = (Patient) entry.getResource();\n",
    "    System.out.println(patient.getId());\n",
    "}\n"
   ]
  },
  {
   "cell_type": "markdown",
   "metadata": {},
   "source": [
    "(Reverse) Includes\n",
    "\n",
    "Include referenced resources in the response bundle\n",
    "\n",
    "選擇特定的Master,並將一或多個Detail資料一併回傳，最好為一對多；若狀況為多對多，則需要後續處理。"
   ]
  },
  {
   "cell_type": "code",
   "execution_count": 9,
   "metadata": {
    "vscode": {
     "languageId": "java"
    }
   },
   "outputs": [
    {
     "name": "stdout",
     "output_type": "stream",
     "text": [
      "http://localhost:8080/fhir/Patient/34486/_history/2\n",
      "http://localhost:8080/fhir/Encounter/34574/_history/1\n",
      "http://localhost:8080/fhir/Encounter/34830/_history/1\n",
      "http://localhost:8080/fhir/Condition/34831/_history/1\n",
      "http://localhost:8080/fhir/Condition/34832/_history/1\n",
      "http://localhost:8080/fhir/Encounter/35090/_history/1\n",
      "http://localhost:8080/fhir/Encounter/34965/_history/1\n",
      "http://localhost:8080/fhir/Encounter/34582/_history/1\n",
      "http://localhost:8080/fhir/Encounter/35223/_history/1\n",
      "http://localhost:8080/fhir/Encounter/34971/_history/1\n",
      "http://localhost:8080/fhir/Condition/34972/_history/1\n",
      "http://localhost:8080/fhir/Encounter/34590/_history/1\n",
      "http://localhost:8080/fhir/Encounter/34597/_history/1\n",
      "http://localhost:8080/fhir/Condition/34598/_history/1\n",
      "http://localhost:8080/fhir/Condition/34599/_history/1\n",
      "http://localhost:8080/fhir/Condition/34600/_history/1\n",
      "http://localhost:8080/fhir/Condition/34601/_history/1\n",
      "http://localhost:8080/fhir/Encounter/35118/_history/1\n",
      "http://localhost:8080/fhir/Condition/35119/_history/1\n",
      "http://localhost:8080/fhir/Encounter/34863/_history/1\n",
      "http://localhost:8080/fhir/Encounter/34736/_history/1\n",
      "http://localhost:8080/fhir/Encounter/35122/_history/1\n",
      "http://localhost:8080/fhir/Condition/35123/_history/1\n",
      "http://localhost:8080/fhir/Encounter/34487/_history/1\n",
      "http://localhost:8080/fhir/Condition/34488/_history/1\n",
      "http://localhost:8080/fhir/Encounter/35128/_history/1\n",
      "http://localhost:8080/fhir/Condition/35129/_history/1\n",
      "http://localhost:8080/fhir/Encounter/34491/_history/1\n",
      "http://localhost:8080/fhir/Condition/34492/_history/1\n",
      "http://localhost:8080/fhir/Encounter/35006/_history/1\n",
      "http://localhost:8080/fhir/Encounter/34495/_history/1\n",
      "http://localhost:8080/fhir/Condition/34496/_history/1\n",
      "http://localhost:8080/fhir/Encounter/34499/_history/1\n",
      "http://localhost:8080/fhir/Condition/34500/_history/1\n",
      "http://localhost:8080/fhir/Encounter/34503/_history/1\n",
      "http://localhost:8080/fhir/Condition/34504/_history/1\n",
      "http://localhost:8080/fhir/Encounter/34632/_history/1\n",
      "http://localhost:8080/fhir/Condition/34505/_history/1\n",
      "http://localhost:8080/fhir/Encounter/34891/_history/1\n",
      "http://localhost:8080/fhir/Encounter/34764/_history/1\n",
      "http://localhost:8080/fhir/Encounter/34510/_history/1\n",
      "http://localhost:8080/fhir/Encounter/34899/_history/1\n",
      "http://localhost:8080/fhir/Condition/34900/_history/1\n",
      "http://localhost:8080/fhir/Encounter/34772/_history/1\n",
      "http://localhost:8080/fhir/Encounter/34516/_history/1\n",
      "http://localhost:8080/fhir/Encounter/35156/_history/1\n",
      "http://localhost:8080/fhir/Condition/34773/_history/1\n",
      "http://localhost:8080/fhir/Condition/34774/_history/1\n",
      "http://localhost:8080/fhir/Encounter/35034/_history/1\n",
      "http://localhost:8080/fhir/Condition/35035/_history/1\n",
      "http://localhost:8080/fhir/Encounter/34525/_history/1\n",
      "http://localhost:8080/fhir/Condition/34526/_history/1\n",
      "http://localhost:8080/fhir/Encounter/35038/_history/1\n",
      "http://localhost:8080/fhir/Condition/34527/_history/1\n",
      "http://localhost:8080/fhir/Encounter/35042/_history/1\n",
      "http://localhost:8080/fhir/Encounter/34660/_history/1\n",
      "http://localhost:8080/fhir/Encounter/35046/_history/1\n",
      "http://localhost:8080/fhir/Encounter/34664/_history/1\n",
      "http://localhost:8080/fhir/Condition/34665/_history/1\n",
      "http://localhost:8080/fhir/Condition/34666/_history/1\n",
      "http://localhost:8080/fhir/Encounter/35050/_history/1\n",
      "http://localhost:8080/fhir/Condition/34667/_history/1\n",
      "http://localhost:8080/fhir/Encounter/34672/_history/1\n",
      "http://localhost:8080/fhir/Encounter/35184/_history/1\n",
      "http://localhost:8080/fhir/Condition/35185/_history/1\n",
      "http://localhost:8080/fhir/Condition/35186/_history/1\n",
      "http://localhost:8080/fhir/Encounter/34802/_history/1\n",
      "http://localhost:8080/fhir/Encounter/34677/_history/1\n",
      "http://localhost:8080/fhir/Encounter/34937/_history/1\n",
      "http://localhost:8080/fhir/Encounter/35195/_history/1\n",
      "http://localhost:8080/fhir/Encounter/34683/_history/1\n",
      "http://localhost:8080/fhir/Condition/34684/_history/1\n",
      "http://localhost:8080/fhir/Condition/34685/_history/1\n"
     ]
    }
   ],
   "source": [
    "//GET [base]/ Patient?name=Sanford861&name=Maile198&_revinclude=Encounter:patient&_revinclude=Condition:patient\n",
    "//取得Patient的name為Sanford861的資料，並且取得其Encounter,Condition資料\n",
    "\n",
    "Bundle response = client.search()   \n",
    "        .forResource(Patient.class) \n",
    "        .where(Patient.NAME.matches().value(\"Sanford861\"))\n",
    "        .and(Patient.NAME.matches().value(\"Maile198\"))\n",
    "        .revInclude(Encounter.INCLUDE_PATIENT)\n",
    "        .revInclude(Condition.INCLUDE_PATIENT)\n",
    "        .returnBundle(Bundle.class)\n",
    "        .execute();\n",
    "\n",
    "// print resource id in the bundle\n",
    "for (Bundle.BundleEntryComponent entry : response.getEntry()) {\n",
    "    Resource resource = entry.getResource();\n",
    "    System.out.println(resource.getId());\n",
    "}\n"
   ]
  },
  {
   "cell_type": "markdown",
   "metadata": {},
   "source": [
    "Include\n",
    "\n",
    "選擇特定的Detail,並將一或多個Master資料一併回傳，通常為多對多，則需要後續處理。"
   ]
  },
  {
   "cell_type": "code",
   "execution_count": 10,
   "metadata": {
    "vscode": {
     "languageId": "java"
    }
   },
   "outputs": [
    {
     "name": "stdout",
     "output_type": "stream",
     "text": [
      "http://localhost:8080/fhir/Condition/24674/_history/1\n",
      "http://localhost:8080/fhir/Condition/24559/_history/1\n",
      "http://localhost:8080/fhir/Condition/24384/_history/1\n",
      "http://localhost:8080/fhir/Condition/24340/_history/1\n",
      "http://localhost:8080/fhir/Condition/24404/_history/1\n",
      "http://localhost:8080/fhir/Condition/24758/_history/1\n",
      "http://localhost:8080/fhir/Condition/24860/_history/1\n",
      "http://localhost:8080/fhir/Condition/24906/_history/1\n",
      "http://localhost:8080/fhir/Condition/25127/_history/1\n",
      "http://localhost:8080/fhir/Condition/25236/_history/1\n",
      "http://localhost:8080/fhir/Condition/25089/_history/1\n",
      "http://localhost:8080/fhir/Condition/25037/_history/1\n",
      "http://localhost:8080/fhir/Condition/25180/_history/1\n",
      "http://localhost:8080/fhir/Condition/25444/_history/1\n",
      "http://localhost:8080/fhir/Condition/25345/_history/1\n",
      "http://localhost:8080/fhir/Condition/25524/_history/1\n",
      "http://localhost:8080/fhir/Condition/25670/_history/1\n",
      "http://localhost:8080/fhir/Condition/25559/_history/1\n",
      "http://localhost:8080/fhir/Condition/26105/_history/1\n",
      "http://localhost:8080/fhir/Condition/26297/_history/1\n",
      "http://localhost:8080/fhir/Patient/25553/_history/2\n",
      "http://localhost:8080/fhir/Patient/25841/_history/2\n",
      "http://localhost:8080/fhir/Patient/25302/_history/2\n",
      "http://localhost:8080/fhir/Patient/24313/_history/2\n",
      "http://localhost:8080/fhir/Patient/25006/_history/2\n"
     ]
    }
   ],
   "source": [
    "// GET [base]/Condition?code=314529007&_include =Condition:patient\n",
    "// 取得Condition的code為314529007的Condition資料，並且包含patient資料\n",
    "\n",
    "Bundle response = client.search()\n",
    "      .forResource(Condition.class)\n",
    "      .where(Condition.CODE.exactly().code(\"314529007\"))\n",
    "      .include(Condition.INCLUDE_PATIENT.asRecursive())\n",
    "      .returnBundle(Bundle.class)\n",
    "      .execute();\n",
    "      \n",
    "// print resource id in the bundle\n",
    "for (Bundle.BundleEntryComponent entry : response.getEntry()) {\n",
    "    Resource resource = entry.getResource();\n",
    "    System.out.println(resource.getId());\n",
    "}\n"
   ]
  },
  {
   "cell_type": "markdown",
   "metadata": {},
   "source": [
    "Search - Multi-valued Parameters (ANY/OR)"
   ]
  },
  {
   "cell_type": "code",
   "execution_count": 9,
   "metadata": {
    "vscode": {
     "languageId": "java"
    }
   },
   "outputs": [
    {
     "name": "stdout",
     "output_type": "stream",
     "text": [
      "Organization/38113\n"
     ]
    }
   ],
   "source": [
    "Patient patient = null;\n",
    "\n",
    "// This leads to a URL resembling http://base/Patient?family=Mildred587,Farrell962\n",
    "response = client.search()\n",
    "      .forResource(Patient.class)\n",
    "      .where(Patient.FAMILY.matches().values(\"Mildred587\", \"Farrell962\"))\n",
    "      .returnBundle(Bundle.class)\n",
    "      .execute();\n",
    "// print the results\n",
    "for (Bundle.BundleEntryComponent entry : response.getEntry()) {\n",
    "    patient = (Patient) entry.getResource();\n",
    "}\n",
    "\n",
    "System.out.println(patient.getGeneralPractitioner().get(0).getReference());"
   ]
  }
 ],
 "metadata": {
  "kernelspec": {
   "display_name": "Java",
   "language": "java",
   "name": "java"
  },
  "language_info": {
   "codemirror_mode": "java",
   "file_extension": ".jshell",
   "mimetype": "text/x-java-source",
   "name": "Java",
   "pygments_lexer": "java",
   "version": "17.0.9+11-LTS-201"
  }
 },
 "nbformat": 4,
 "nbformat_minor": 2
}
