{
 "cells": [
  {
   "cell_type": "code",
   "execution_count": 2,
   "metadata": {},
   "outputs": [],
   "source": [
    "%loadFromPOM pom.xml"
   ]
  },
  {
   "cell_type": "code",
   "execution_count": 3,
   "metadata": {},
   "outputs": [],
   "source": [
    "import ca.uhn.fhir.context.FhirContext;\n",
    "import ca.uhn.fhir.rest.client.api.*;\n",
    "import ca.uhn.fhir.rest.api.MethodOutcome;\n",
    "import org.hl7.fhir.r4.model.*;"
   ]
  },
  {
   "cell_type": "markdown",
   "metadata": {},
   "source": []
  },
  {
   "cell_type": "code",
   "execution_count": 4,
   "metadata": {},
   "outputs": [],
   "source": [
    "FhirContext ctx = FhirContext.forR4();\n",
    "String serverBase = \"http://localhost:8080/fhir\";\n",
    "IGenericClient client = ctx.newRestfulGenericClient(serverBase);"
   ]
  },
  {
   "cell_type": "markdown",
   "metadata": {},
   "source": [
    "背景：阿里史診所是一間位於台灣東部的小診所，地址為宜蘭縣三星鄉拱照八路86號，診所只有醫師兩名輪流看診。分別是陳莎莎醫師和陳柴柴醫師，都是全科的醫師。\n",
    "\n",
    "產生基本診所資料"
   ]
  },
  {
   "cell_type": "code",
   "execution_count": null,
   "metadata": {},
   "outputs": [],
   "source": [
    "// Add Location Data 阿里史診所資料\n",
    "Location local = new Location();\n",
    "local.setName(\"阿里史診所\");\n",
    "\n",
    "Address address = new Address();\n",
    "address.addLine(\"宜蘭縣三星鄉拱照八路86號\");\n",
    "address.setCity(\"宜蘭縣\");\n",
    "address.setDistrict(\"三星鄉\");\n",
    "address.setPostalCode(\"266\");\n",
    "address.setCountry(\"台灣\");\n",
    "local.setAddress(address);\n",
    "\n",
    "ContactPoint contact = new ContactPoint();\n",
    "contact.setSystem(ContactPoint.ContactPointSystem.PHONE);\n",
    "contact.setValue(\"03-989-1234\");\n",
    "local.addTelecom(contact);\n",
    "\n",
    "// print Location Data\n",
    "String orgString = ctx.newJsonParser().setPrettyPrint(true).encodeResourceToString(local);\n",
    "System.out.println(orgString);"
   ]
  },
  {
   "cell_type": "markdown",
   "metadata": {},
   "source": [
    "產生醫師資料"
   ]
  },
  {
   "cell_type": "code",
   "execution_count": null,
   "metadata": {},
   "outputs": [],
   "source": [
    "// New Practitioner Identifier\n",
    "Identifier identifier = new Identifier();\n",
    "identifier.setUse(Identifier.IdentifierUse.OFFICIAL);\n",
    "identifier.setType(new CodeableConcept().addCoding(new Coding().setSystem(\"http://terminology.hl7.org/CodeSystem/v2-0203\").setCode(\"MD\").setDisplay(\"醫師\")));\n",
    "\n",
    "// new Qualification 附加資格\n",
    "Practitioner.PractitionerQualificationComponent qualification = new Practitioner.PractitionerQualificationComponent();\n",
    "qualification.setCode(new CodeableConcept().addCoding(new Coding().setSystem(\"https://twcore.mohw.gov.tw/ig/twcore/CodeSystem/health-professional\").setCode(\"A\")));\n",
    "\n",
    "// Add Practitioner 1 陳莎莎醫師資料，with qualification 附加資格\n",
    "Practitioner practitioner1 = new Practitioner();\n",
    "practitioner1.addName()\n",
    "    .setFamily(\"陳\")\n",
    "    .addGiven(\"莎莎\");\n",
    "practitioner1.addTelecom()\n",
    "    .setSystem(ContactPoint.ContactPointSystem.PHONE)\n",
    "    .setValue(\"03-12345678\");\n",
    "practitioner1.addTelecom()\n",
    "    .setSystem(ContactPoint.ContactPointSystem.PHONE)\n",
    "    .setValue(\"0987-666471\");\n",
    "practitioner1.addIdentifier(identifier);\n",
    "practitioner1.addQualification(qualification);\n",
    "\n",
    "// add practitioner 2 陳柴柴醫師資料，with qualification 附加資格\n",
    "Practitioner practitioner2 = new Practitioner();\n",
    "practitioner2.addName()\n",
    "    .setFamily(\"陳\")\n",
    "    .addGiven(\"柴柴\");\n",
    "practitioner2.addTelecom()\n",
    "    .setSystem(ContactPoint.ContactPointSystem.PHONE)\n",
    "    .setValue(\"03-12345678\");\n",
    "practitioner2.addTelecom()  \n",
    "    .setSystem(ContactPoint.ContactPointSystem.PHONE)\n",
    "    .setValue(\"0987-666472\");\n",
    "practitioner2.addIdentifier(identifier);\n",
    "practitioner2.addQualification(qualification);\n"
   ]
  },
  {
   "cell_type": "markdown",
   "metadata": {},
   "source": [
    "以Bundle格式處理"
   ]
  },
  {
   "cell_type": "code",
   "execution_count": null,
   "metadata": {},
   "outputs": [],
   "source": [
    "// create bundle for all data\n",
    "Bundle bundle = new Bundle();\n",
    "bundle.setType(Bundle.BundleType.TRANSACTION);\n",
    "bundle.addEntry()\n",
    "    .setFullUrl(local.getIdElement().getValue())\n",
    "    .setResource(local)\n",
    "    .getRequest()\n",
    "    .setUrl(\"Location\")\n",
    "    .setMethod(Bundle.HTTPVerb.POST);\n",
    "    bundle.addEntry()\n",
    "    .setFullUrl(practitioner1.getIdElement().getValue())\n",
    "    .setResource(practitioner1)\n",
    "    .getRequest()\n",
    "    .setUrl(\"Practitioner\")\n",
    "    .setMethod(Bundle.HTTPVerb.POST);\n",
    "    bundle.addEntry()\n",
    "    .setFullUrl(practitioner2.getIdElement().getValue())\n",
    "    .setResource(practitioner2)\n",
    "    .getRequest()\n",
    "    .setUrl(\"Practitioner\")\n",
    "    .setMethod(Bundle.HTTPVerb.POST);\n",
    "\n",
    "// save data to server - Run one time only\n",
    "// Bundle resp = client.transaction().withBundle(bundle).execute();\n",
    "// System.out.println(ctx.newJsonParser().setPrettyPrint(true).encodeResourceToString(resp));"
   ]
  },
  {
   "cell_type": "markdown",
   "metadata": {},
   "source": [
    "產生Practitioner Role資料"
   ]
  },
  {
   "cell_type": "code",
   "execution_count": null,
   "metadata": {},
   "outputs": [],
   "source": [
    "//read location data \"阿里史診所\"\n",
    "Bundle bundle1 = client\n",
    "    .search()\n",
    "    .forResource(Location.class)\n",
    "    .where(Location.NAME.matches().value(\"阿里史診所\"))\n",
    "    .returnBundle(Bundle.class)\n",
    "    .execute();\n",
    "Location location = (Location) bundle1.getEntry().get(0).getResource();\n",
    "\n",
    "// read practitioner data \"陳莎莎醫師\"\n",
    "Bundle bundle2 = client\n",
    "    .search()\n",
    "    .forResource(Practitioner.class)\n",
    "    .where(Practitioner.NAME.matches().value(\"莎莎\"))\n",
    "    .returnBundle(Bundle.class)\n",
    "    .execute();\n",
    "Practitioner practitioner = (Practitioner) bundle2.getEntry().get(0).getResource();\n",
    "\n",
    "PractitionerRole practitionerRole1 = new PractitionerRole();\n",
    "practitionerRole1.addLocation(new Reference(\"Location/\" + location.getIdElement().getIdPart()));\n",
    "practitionerRole1.setPractitioner(new Reference(\"Practitioner/\" + practitioner.getIdElement().getIdPart()));\n",
    "// add specialty\n",
    "CodeableConcept specialty = new CodeableConcept();\n",
    "specialty.addCoding(new Coding().setCode(\"394814009\").setDisplay(\"家庭醫學科\").setSystem(\"http://snomed.info/sct\"));\n",
    "practitionerRole1.addSpecialty(specialty);\n",
    "\n",
    "// read practitioner data \"陳柴柴醫師\"\n",
    "Bundle bundle3 = client\n",
    "    .search()\n",
    "    .forResource(Practitioner.class)\n",
    "    .where(Practitioner.NAME.matches().value(\"柴柴\"))\n",
    "    .returnBundle(Bundle.class)\n",
    "    .execute();\n",
    "Practitioner practitioner2 = (Practitioner) bundle3.getEntry().get(0).getResource();\n",
    "\n",
    "PractitionerRole practitionerRole2 = new PractitionerRole();\n",
    "practitionerRole2.addLocation(new Reference(\"Location/\" + location.getIdElement().getIdPart()));\n",
    "practitionerRole2.setPractitioner(new Reference(\"Practitioner/\" + practitioner2.getIdElement().getIdPart()));\n",
    "// add specialty\n",
    "CodeableConcept specialty2 = new CodeableConcept();\n",
    "specialty2.addCoding(new Coding().setCode(\"394814009\").setDisplay(\"家庭醫學科\").setSystem(\"http://snomed.info/sct\"));\n",
    "practitionerRole2.addSpecialty(specialty2);\n",
    "\n",
    "// create bundle for all data\n",
    "Bundle bundle4 = new Bundle();\n",
    "bundle4.setType(Bundle.BundleType.TRANSACTION);\n",
    "bundle4.addEntry()\n",
    "    .setFullUrl(practitionerRole1.getIdElement().getValue())\n",
    "    .setResource(practitionerRole1)\n",
    "    .getRequest()\n",
    "    .setUrl(\"PractitionerRole\")\n",
    "    .setMethod(Bundle.HTTPVerb.POST);\n",
    "bundle4.addEntry()\n",
    "    .setFullUrl(practitionerRole2.getIdElement().getValue())\n",
    "    .setResource(practitionerRole2)\n",
    "    .getRequest()\n",
    "    .setUrl(\"PractitionerRole\")\n",
    "    .setMethod(Bundle.HTTPVerb.POST);\n",
    "\n",
    "// save data to server - Run one time only\n",
    "//Bundle resp = client.transaction().withBundle(bundle4).execute();\n",
    "//System.out.println(ctx.newJsonParser().setPrettyPrint(true).encodeResourceToString(resp));"
   ]
  },
  {
   "cell_type": "code",
   "execution_count": 10,
   "metadata": {},
   "outputs": [
    {
     "data": {
      "text/plain": [
       "org.hl7.fhir.r4.model.Location@135c6be8"
      ]
     },
     "execution_count": 10,
     "metadata": {},
     "output_type": "execute_result"
    }
   ],
   "source": [
    "// 阿里史診所 隸屬於 東部醫療網路 宜蘭縣宜蘭市中山路2號 電話：03-989-4321   \n",
    "Organization organization = new Organization();\n",
    "organization.setName(\"東部醫療網路\");\n",
    "\n",
    "Address address = new Address();\n",
    "address.addLine(\"宜蘭縣宜蘭市中山路2號\");\n",
    "address.setCity(\"宜蘭縣\");\n",
    "address.setDistrict(\"宜蘭市\");\n",
    "address.setPostalCode(\"260\");\n",
    "address.setCountry(\"台灣\");\n",
    "organization.addAddress(address);\n",
    "\n",
    "ContactPoint contact = new ContactPoint();\n",
    "contact.setSystem(ContactPoint.ContactPointSystem.PHONE);\n",
    "contact.setValue(\"03-989-4321\");\n",
    "organization.addTelecom(contact);\n",
    "\n",
    "// save data to server - Run one time only\n",
    "//MethodOutcome outcome = client.create().resource(organization).execute();\n",
    "//System.out.println(outcome.getId().getValue());\n",
    "\n",
    "// read organization data \"東部醫療網路\"\n",
    "Bundle bundle5 = client\n",
    "    .search()\n",
    "    .forResource(Organization.class)\n",
    "    .where(Organization.NAME.matches().value(\"東部醫療網路\"))\n",
    "    .returnBundle(Bundle.class)\n",
    "    .execute();\n",
    "Organization organization = (Organization) bundle5.getEntry().get(0).getResource();\n",
    "\n",
    "// read location data \"阿里史診所\"\n",
    "Bundle bundle6 = client\n",
    "    .search()\n",
    "    .forResource(Location.class)\n",
    "    .where(Location.NAME.matches().value(\"阿里史診所\"))\n",
    "    .returnBundle(Bundle.class)\n",
    "    .execute();\n",
    "Location location = (Location) bundle6.getEntry().get(0).getResource();\n",
    "\n",
    "// add organization to location - run one time only\n",
    "// location.setManagingOrganization(new Reference(\"Organization/\" + organization.getIdElement().getIdPart()));\n"
   ]
  },
  {
   "cell_type": "code",
   "execution_count": null,
   "metadata": {},
   "outputs": [],
   "source": [
    "//read Organization \"東部醫療網路\" from DB\n",
    "Bundle response = client\n",
    "                .search()\n",
    "                .forResource(Organization.class)\n",
    "                .where(Organization.NAME.matchesExactly().value(\"東部醫療網路\"))\n",
    "                .returnBundle(Bundle.class)\n",
    "                .execute();\n",
    "Organization organization = (Organization) response.getEntry().get(0).getResource();\n",
    "\n",
    "// Read all patient from DB\n",
    "Bundle response = client.search().forResource(Patient.class).returnBundle(Bundle.class).execute();\n",
    "\n",
    "// count patients\n",
    "int count = 0;\n",
    "while (true) {\n",
    "    for (Bundle.BundleEntryComponent entry : response.getEntry()) {\n",
    "        Resource resource = entry.getResource();\n",
    "        if (resource instanceof Patient) {\n",
    "            Patient patient = (Patient) resource;\n",
    "            // Set general practitioner as \"東部醫療網路\"\n",
    "            patient.setGeneralPractitioner(List.of(new Reference(\"Organization\" + \"/\" + organization.getIdElement().getIdPart())));\n",
    "            // Update patient\n",
    "            MethodOutcome outcome = client.update().resource(patient).execute();\n",
    "            //Print patient name & patient id\n",
    "            System.out.println(patient.getName().get(0).getGivenAsSingleString() + \" \" + patient.getName().get(0).getFamily() + \" \" + patient.getId());\n",
    "            count++;\n",
    "        }\n",
    "    }\n",
    "    // Load next page\n",
    "    if (response.getLink(Bundle.LINK_NEXT) != null) {\n",
    "        response = client.loadPage().next(response).execute();\n",
    "    } else {\n",
    "        break;\n",
    "    }\n",
    "}\n",
    "System.out.println(\"Total patients: \" + count);"
   ]
  }
 ],
 "metadata": {
  "kernelspec": {
   "display_name": "Java",
   "language": "java",
   "name": "java"
  },
  "language_info": {
   "codemirror_mode": "java",
   "file_extension": ".jshell",
   "mimetype": "text/x-java-source",
   "name": "java",
   "pygments_lexer": "java",
   "version": "17.0.9+11-LTS-201"
  }
 },
 "nbformat": 4,
 "nbformat_minor": 2
}
