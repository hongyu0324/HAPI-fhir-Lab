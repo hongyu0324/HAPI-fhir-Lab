{
 "cells": [
  {
   "cell_type": "code",
   "execution_count": 1,
   "metadata": {
    "vscode": {
     "languageId": "java"
    }
   },
   "outputs": [],
   "source": [
    "%loadFromPOM pom.xml"
   ]
  },
  {
   "cell_type": "code",
   "execution_count": 2,
   "metadata": {
    "vscode": {
     "languageId": "java"
    }
   },
   "outputs": [],
   "source": [
    "import ca.uhn.fhir.context.FhirContext;\n",
    "import ca.uhn.fhir.rest.client.api.*;\n",
    "import ca.uhn.fhir.rest.api.MethodOutcome;\n",
    "import org.hl7.fhir.r4.model.*;"
   ]
  },
  {
   "cell_type": "code",
   "execution_count": 3,
   "metadata": {
    "vscode": {
     "languageId": "java"
    }
   },
   "outputs": [],
   "source": [
    "FhirContext ctx = FhirContext.forR4();\n",
    "String serverBase = \"http://localhost:8080/fhir\";\n",
    "IGenericClient client = ctx.newRestfulGenericClient(serverBase);"
   ]
  },
  {
   "cell_type": "code",
   "execution_count": 4,
   "metadata": {
    "vscode": {
     "languageId": "java"
    }
   },
   "outputs": [
    {
     "name": "stdout",
     "output_type": "stream",
     "text": [
      "Schedule ID: http://localhost:8080/fhir/Schedule/109/_history/1\n",
      "Schedule Service Type: null\n",
      "Schedule Actor: Kelly Smith\n",
      "Schedule Actor Reference: Practitioner/103\n",
      "Schedule ID: http://localhost:8080/fhir/Schedule/109/_history/1\n"
     ]
    }
   ],
   "source": [
    "// find schedule with service type = General Practice on 2018-09-16\n",
    "Bundle results = client.search()    \n",
    "    .forResource(Schedule.class)\n",
    "    .where(Schedule.SERVICE_TYPE.exactly().code(\"124\"))\n",
    "    //with date on 2018-09-16\n",
    "    .where(Schedule.DATE.exactly().day(\"2018-09-16\"))\n",
    "    .returnBundle(Bundle.class)\n",
    "    .execute();\n",
    "\n",
    "//列印出所有的schedule所包含的practitioner\n",
    "for (Bundle.BundleEntryComponent entry : results.getEntry()) {\n",
    "    Schedule schedule = (Schedule) entry.getResource();\n",
    "    System.out.println(\"Schedule ID: \" + schedule.getId());\n",
    "    System.out.println(\"Schedule Service Type: \" + schedule.getServiceType().get(0).getText());\n",
    "    System.out.println(\"Schedule Actor: \" + schedule.getActor().get(0).getDisplay());\n",
    "    System.out.println(\"Schedule Actor Reference: \" + schedule.getActor().get(0).getReference());\n",
    "}\n",
    "Schedule schedule = (Schedule) results.getEntry().get(0).getResource();\n",
    "System.out.println(\"Schedule ID: \" + schedule.getId());"
   ]
  },
  {
   "cell_type": "code",
   "execution_count": 5,
   "metadata": {
    "vscode": {
     "languageId": "java"
    }
   },
   "outputs": [
    {
     "name": "stdout",
     "output_type": "stream",
     "text": [
      "Slot : Sun Sep 16 15:00:00 CST 2018 ~ Sun Sep 16 16:00:00 CST 2018\n",
      "Slot : Sun Sep 16 09:00:00 CST 2018 ~ Sun Sep 16 10:00:00 CST 2018\n",
      "Slot : Sun Sep 16 12:00:00 CST 2018 ~ Sun Sep 16 13:00:00 CST 2018\n",
      "Slot : Sun Sep 16 17:00:00 CST 2018 ~ Sun Sep 16 18:00:00 CST 2018\n",
      "Slot : Sun Sep 16 14:00:00 CST 2018 ~ Sun Sep 16 15:00:00 CST 2018\n",
      "Slot : Sun Sep 16 16:00:00 CST 2018 ~ Sun Sep 16 17:00:00 CST 2018\n"
     ]
    }
   ],
   "source": [
    "// Now let's search for slots defined for the schedules.\n",
    "// We'll search for slots that are free on 2018-09-16\n",
    "results = client.search()\n",
    "    .forResource(Slot.class)\n",
    "    .where(Slot.SCHEDULE.hasId(\"Schedule/\" + schedule.getIdElement().getIdPart()))\n",
    "    .where(Slot.STATUS.exactly().code(\"free\"))\n",
    "    .where(Slot.START.exactly().day(\"2018-09-16\"))\n",
    "    .returnBundle(Bundle.class)\n",
    "    .execute();\n",
    "\n",
    "//列印出所有的slot所包含的practitioner\n",
    "for (Bundle.BundleEntryComponent entry : results.getEntry()) {\n",
    "    Slot slot = (Slot) entry.getResource();\n",
    "    System.out.println(\"Slot : \" + slot.getStart() + \" ~ \" + slot.getEnd());\n",
    "}"
   ]
  },
  {
   "cell_type": "markdown",
   "metadata": {},
   "source": []
  }
 ],
 "metadata": {
  "kernelspec": {
   "display_name": "Java",
   "language": "java",
   "name": "java"
  },
  "language_info": {
   "codemirror_mode": "java",
   "file_extension": ".jshell",
   "mimetype": "text/x-java-source",
   "name": "Java",
   "pygments_lexer": "java",
   "version": "17.0.9+11-LTS-201"
  }
 },
 "nbformat": 4,
 "nbformat_minor": 2
}
