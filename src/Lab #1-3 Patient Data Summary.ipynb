{
 "cells": [
  {
   "cell_type": "code",
   "execution_count": null,
   "metadata": {
    "vscode": {
     "languageId": "java"
    }
   },
   "outputs": [],
   "source": [
    "%loadFromPOM pom.xml"
   ]
  },
  {
   "cell_type": "code",
   "execution_count": null,
   "metadata": {
    "vscode": {
     "languageId": "java"
    }
   },
   "outputs": [],
   "source": [
    "import ca.uhn.fhir.context.FhirContext;\n",
    "import ca.uhn.fhir.rest.client.api.*;\n",
    "import ca.uhn.fhir.rest.api.MethodOutcome;\n",
    "import ca.uhn.fhir.validation.*;\n",
    "import org.hl7.fhir.r4.model.*;\n",
    "import java.nio.file.*;"
   ]
  },
  {
   "cell_type": "code",
   "execution_count": null,
   "metadata": {
    "vscode": {
     "languageId": "java"
    }
   },
   "outputs": [],
   "source": [
    "FhirContext ctx = FhirContext.forR4();\n",
    "String serverBase = \"http://localhost:8080/fhir\";\n",
    "IGenericClient client = ctx.newRestfulGenericClient(serverBase);"
   ]
  },
  {
   "cell_type": "code",
   "execution_count": null,
   "metadata": {
    "vscode": {
     "languageId": "java"
    }
   },
   "outputs": [],
   "source": [
    "// for each file in the synthetic-data/fhir directory\n",
    "String fhirDir = \"C:\\\\Project\\\\HAPI-fhir-Lab\\\\synthetic-data\\\\fhir\";\n",
    "File[] files = new File(fhirDir).listFiles();\n",
    "for (File file : files) {\n",
    "    System.out.println(\" ---- Processing file: \" + file.getName() +\" ---\");\n",
    "    Map<String,Integer> resourceSummary = new HashMap<>();\n",
    "    if (file.isFile()) {\n",
    "        String bundleString = Files.readString(Paths.get(file.getAbsolutePath()));\n",
    "        Bundle bundle = ctx.newJsonParser().parseResource(Bundle.class, bundleString);\n",
    "        for (Bundle.BundleEntryComponent entry : bundle.getEntry()) {\n",
    "            String resourceType = entry.getResource().getResourceType().name();\n",
    "            if (resourceSummary.containsKey(resourceType)) {\n",
    "                resourceSummary.put(resourceType, resourceSummary.get(resourceType) + 1);\n",
    "            }\n",
    "            else {\n",
    "                resourceSummary.put(resourceType, 1);\n",
    "            }\n",
    "        }\n",
    "    }\n",
    "    // print the summary\n",
    "    for (Map.Entry<String, Integer> entry : resourceSummary.entrySet()) {\n",
    "        System.out.println(entry.getKey() + \": \" + entry.getValue());\n",
    "    }\n",
    "}\n"
   ]
  }
 ],
 "metadata": {
  "kernelspec": {
   "display_name": "Java",
   "language": "java",
   "name": "java"
  },
  "language_info": {
   "codemirror_mode": "java",
   "file_extension": ".jshell",
   "mimetype": "text/x-java-source",
   "name": "Java",
   "pygments_lexer": "java",
   "version": "17.0.9+11-LTS-201"
  }
 },
 "nbformat": 4,
 "nbformat_minor": 2
}
