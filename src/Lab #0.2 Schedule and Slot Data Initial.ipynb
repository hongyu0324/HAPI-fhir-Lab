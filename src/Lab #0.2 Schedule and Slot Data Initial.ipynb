{
 "cells": [
  {
   "cell_type": "markdown",
   "metadata": {},
   "source": []
  },
  {
   "cell_type": "code",
   "execution_count": null,
   "metadata": {},
   "outputs": [],
   "source": [
    "%loadFromPOM pom.xml"
   ]
  },
  {
   "cell_type": "code",
   "execution_count": null,
   "metadata": {},
   "outputs": [],
   "source": [
    "import ca.uhn.fhir.context.FhirContext;\n",
    "import ca.uhn.fhir.rest.client.api.*;\n",
    "import ca.uhn.fhir.rest.api.MethodOutcome;\n",
    "import org.hl7.fhir.r4.model.*;\n",
    "import java.util.Date;"
   ]
  },
  {
   "cell_type": "code",
   "execution_count": null,
   "metadata": {},
   "outputs": [],
   "source": [
    "FhirContext ctx = FhirContext.forR4();\n",
    "String serverBase = \"http://localhost:8080/fhir\";\n",
    "IGenericClient client = ctx.newRestfulGenericClient(serverBase);"
   ]
  },
  {
   "cell_type": "markdown",
   "metadata": {},
   "source": [
    "背景：阿里史診所開幕了，共有兩位醫生輪流看診，陳莎莎醫師負責星期一、三、五；陳柴柴醫師負責星期二、四、六。星期日休診一天。每日看診時間為早上8:00到下午5:00\n",
    "非休診日期必須執行以下程式，產生Schedule與Slot資料\n",
    "\n",
    "Schedule與Slot資料必須指定Service Type與Service Catalog"
   ]
  },
  {
   "cell_type": "code",
   "execution_count": null,
   "metadata": {},
   "outputs": [],
   "source": [
    "// search for a practitioner \"陳莎莎\"\n",
    "String familyName = \"陳\";\n",
    "String givenName = \"莎莎\";\n",
    "int year = new Date().getYear(); \n",
    "int month = new Date().getMonth(); \n",
    "int day = new Date().getDate();\n",
    "\n",
    "Bundle results = client\n",
    "    .search()\n",
    "    .forResource(Practitioner.class)\n",
    "    .where(Practitioner.FAMILY.matches().value(familyName))\n",
    "    .and(Practitioner.GIVEN.matches().value(givenName))\n",
    "    .returnBundle(Bundle.class)\n",
    "    .execute(); \n",
    "Practitioner practitioner = (Practitioner) results.getEntry().get(0).getResource();\n",
    "\n",
    "// new schedule data for today\n",
    "Schedule schedule = new Schedule();\n",
    "schedule.addServiceType()\n",
    "    .addCoding()\n",
    "    .setSystem(\"http://terminology.hl7.org/CodeSystem/service-type\")\n",
    "    .setCode(\"124\")\n",
    "    .setDisplay(\"General Practice\");\n",
    "// service category\n",
    "schedule.addServiceCategory()\n",
    "    .addCoding()\n",
    "    .setSystem(\"http://terminology.hl7.org/CodeSystem/service-category\")\n",
    "    .setCode(\"17\")\n",
    "    .setDisplay(\"General Practice\");\n",
    "// specialty\n",
    "schedule.addSpecialty()\n",
    "    .addCoding()\n",
    "    .setSystem(\"http://snomed.info/sct\")\n",
    "    .setCode(\"394814009\")\n",
    "    .setDisplay(\"General practice service\");\n",
    "// actor    \n",
    "schedule.addActor(new Reference(\"Practitioner/\"+ practitioner.getIdElement().getIdPart()));\n",
    "// planningHorizon\n",
    "\n",
    "Period period = new Period();\n",
    "period.setStart(new Date(year,month,day,8,00,00));\n",
    "period.setEnd(new Date(year,month,day,17,00,00));\n",
    "schedule.setPlanningHorizon(period);\n",
    "// comment\n",
    "schedule.setComment(\"陳莎莎醫師今日診所行程\");\n",
    "// print schedule\n",
    "\n",
    "System.out.println(ctx.newJsonParser().setPrettyPrint(true).encodeResourceToString(schedule));\n",
    "\n",
    "//save schedule\n",
    "MethodOutcome outcome = client.create()\n",
    "    .resource(schedule)\n",
    "    .prettyPrint()\n",
    "    .encodedJson()\n",
    "    .execute();\n",
    "//System.out.println(outcome.getId());\n",
    "//System.out.println(outcome.getOperationOutcome().getIssue().get(0).getDiagnostics());\n"
   ]
  },
  {
   "cell_type": "code",
   "execution_count": null,
   "metadata": {},
   "outputs": [],
   "source": [
    "// new all slots data for today, every sloy is 60 minutes\n",
    "for(int i=8;i<17;i++){\n",
    "    Slot slot = new Slot();\n",
    "    slot.setSchedule(new Reference(\"Schedule/\"+outcome.getId().getIdPart()));\n",
    "    slot.addServiceType()\n",
    "        .addCoding()\n",
    "        .setSystem(\"http://terminology.hl7.org/CodeSystem/service-type\")\n",
    "        .setCode(\"124\")\n",
    "        .setDisplay(\"General Practice\");\n",
    "    slot.addServiceCategory()\n",
    "        .addCoding()\n",
    "        .setSystem(\"http://terminology.hl7.org/CodeSystem/service-category\")\n",
    "        .setCode(\"17\")\n",
    "        .setDisplay(\"General Practice\");\n",
    "    slot.addSpecialty()\n",
    "        .addCoding()\n",
    "        .setSystem(\"http://snomed.info/sct\")\n",
    "        .setCode(\"394814009\")\n",
    "        .setDisplay(\"General practice service\");\n",
    "    slot.setStart(new Date(year,month,day,i,00,00));\n",
    "    slot.setEnd(new Date(year,month,day,i+1,00,00));\n",
    "    slot.setStatus(Slot.SlotStatus.FREE);\n",
    "    slot.setComment(\"陳莎莎醫師今日診所行程\");\n",
    "    // print slot\n",
    "    // System.out.println(ctx.newJsonParser().setPrettyPrint(true).encodeResourceToString(slot));\n",
    "    // save slot\n",
    "    //MethodOutcome outcome2 = client.create()\n",
    "    //    .resource(slot)\n",
    "    //    .prettyPrint()\n",
    "    //    .encodedJson()\n",
    "    //    .execute();\n",
    "}\n"
   ]
  },
  {
   "cell_type": "code",
   "execution_count": 23,
   "metadata": {},
   "outputs": [
    {
     "name": "stdout",
     "output_type": "stream",
     "text": [
      "Fri Dec 01 08:00:00 CST 2023 - Fri Dec 01 09:00:00 CST 2023 FREE\n",
      "Fri Dec 01 09:00:00 CST 2023 - Fri Dec 01 10:00:00 CST 2023 FREE\n",
      "Fri Dec 01 10:00:00 CST 2023 - Fri Dec 01 11:00:00 CST 2023 FREE\n",
      "Fri Dec 01 11:00:00 CST 2023 - Fri Dec 01 12:00:00 CST 2023 FREE\n",
      "Fri Dec 01 12:00:00 CST 2023 - Fri Dec 01 13:00:00 CST 2023 FREE\n",
      "Fri Dec 01 13:00:00 CST 2023 - Fri Dec 01 14:00:00 CST 2023 FREE\n",
      "Fri Dec 01 14:00:00 CST 2023 - Fri Dec 01 15:00:00 CST 2023 FREE\n",
      "Fri Dec 01 15:00:00 CST 2023 - Fri Dec 01 16:00:00 CST 2023 FREE\n",
      "Fri Dec 01 16:00:00 CST 2023 - Fri Dec 01 17:00:00 CST 2023 FREE\n"
     ]
    }
   ],
   "source": [
    "// 以日期查詢，顯示今日看診行程\n",
    "Bundle results2 = client\n",
    "    .search()\n",
    "    .forResource(Schedule.class)\n",
    "    .where(Schedule.DATE.exactly().day(\"2023-12-01\"))\n",
    "    .returnBundle(Bundle.class)\n",
    "    .execute();\n",
    "\n",
    "// 查詢今日看診行程的所有時段\n",
    "Bundle results3 = client\n",
    "    .search()\n",
    "    .forResource(Slot.class)\n",
    "    .where(Slot.SCHEDULE.hasId(\"Schedule/\" + results2.getEntry().get(0).getResource().getIdElement().getIdPart()))\n",
    "    .returnBundle(Bundle.class)\n",
    "    .execute();\n",
    "\n",
    "for (Bundle.BundleEntryComponent entry : results3.getEntry()) {\n",
    "    Slot slot = (Slot) entry.getResource();\n",
    "    System.out.println(slot.getStart() + \" - \" + slot.getEnd() + \" \" + slot.getStatus());\n",
    "}\n"
   ]
  }
 ],
 "metadata": {
  "kernelspec": {
   "display_name": "Java",
   "language": "java",
   "name": "java"
  },
  "language_info": {
   "codemirror_mode": "java",
   "file_extension": ".jshell",
   "mimetype": "text/x-java-source",
   "name": "java",
   "pygments_lexer": "java",
   "version": "17.0.9+11-LTS-201"
  }
 },
 "nbformat": 4,
 "nbformat_minor": 2
}
