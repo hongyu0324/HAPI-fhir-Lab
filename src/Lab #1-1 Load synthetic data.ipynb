{
 "cells": [
  {
   "cell_type": "code",
   "execution_count": null,
   "metadata": {},
   "outputs": [],
   "source": [
    "%loadFromPOM pom.xml"
   ]
  },
  {
   "cell_type": "code",
   "execution_count": null,
   "metadata": {},
   "outputs": [],
   "source": [
    "import ca.uhn.fhir.context.FhirContext;\n",
    "import ca.uhn.fhir.rest.client.api.*;\n",
    "import ca.uhn.fhir.rest.api.MethodOutcome;\n",
    "import org.hl7.fhir.r4.model.*;\n",
    "import org.hl7.fhir.instance.model.api.*;\n",
    "import java.nio.file.*;"
   ]
  },
  {
   "cell_type": "code",
   "execution_count": null,
   "metadata": {},
   "outputs": [],
   "source": [
    "FhirContext ctx = FhirContext.forR4();\n",
    "String serverBase = \"http://localhost:8080/fhir\";\n",
    "IGenericClient client = ctx.newRestfulGenericClient(serverBase);"
   ]
  },
  {
   "cell_type": "markdown",
   "metadata": {},
   "source": [
    "背景：FHIR API"
   ]
  },
  {
   "cell_type": "code",
   "execution_count": null,
   "metadata": {},
   "outputs": [],
   "source": [
    "// Load synthetic data from /synthetic-data/fhir directory\n",
    "String path = \"../synthetic-data/fhir\";\n",
    "try {\n",
    "    Files.walk(Paths.get(path)).forEach(filePath -> {\n",
    "        if (Files.isRegularFile(filePath)) {\n",
    "            try {\n",
    "                String resource = Files.readString(filePath);\n",
    "                Bundle bundle = ctx.newJsonParser().parseResource(Bundle.class, resource);\n",
    "                for (Bundle.BundleEntryComponent entry : bundle.getEntry()) {\n",
    "                    Resource r = entry.getResource();\n",
    "                    // Print resource type and id\n",
    "                    String type = r.getResourceType().name();\n",
    "                    if(type.equals(\"Patient\") == true ){\n",
    "                        // Print patient name\n",
    "                        Patient patient = (Patient) r;\n",
    "                        System.out.println(patient.getName().get(0).getGivenAsSingleString() + \" \" + patient.getName().get(0).getFamily());\n",
    "                    }\n",
    "                    //else if(type.equals(\"Organization\") == true ){\n",
    "                        // Print organization name\n",
    "                    //    Organization organization = (Organization) r;\n",
    "                    //    System.out.println(organization.getName());\n",
    "                    //}\n",
    "                }\n",
    "                // Upload bundle to server\n",
    "                // IBaseBundle outcome = client.transaction().withBundle(bundle).execute();\n",
    "\n",
    "            } catch (Exception e) {\n",
    "                System.out.println(\"Error: \" + filePath + \" \" + e.getMessage());\n",
    "            }\n",
    "        }\n",
    "    });\n",
    "} catch (IOException e) {\n",
    "    System.out.println(\"Error reading files: \" + e.getMessage());\n",
    "}\n"
   ]
  },
  {
   "cell_type": "code",
   "execution_count": 36,
   "metadata": {},
   "outputs": [
    {
     "name": "stdout",
     "output_type": "stream",
     "text": [
      "鴻裕 陳 http://localhost:8080/fhir/Patient/9869/_history/2\n",
      "鴻 陳 http://localhost:8080/fhir/Patient/9952/_history/2\n",
      "Christopher C.H. Parks http://localhost:8080/fhir/Patient/10002/_history/1\n",
      "Christopher C.H. Parks http://localhost:8080/fhir/Patient/10402/_history/1\n",
      "Christopher C.H. Parks http://localhost:8080/fhir/Patient/12052/_history/1\n",
      "Christopher C.H. Parks http://localhost:8080/fhir/Patient/12053/_history/1\n",
      "小明 陳 http://localhost:8080/fhir/Patient/12102/_history/1\n",
      "大明 陳 http://localhost:8080/fhir/Patient/12202/_history/1\n",
      "鴻裕 李 http://localhost:8080/fhir/Patient/9953/_history/2\n",
      "大明 陳 http://localhost:8080/fhir/Patient/12103/_history/1\n",
      "大明 陳 http://localhost:8080/fhir/Patient/12104/_history/1\n",
      "大明 陳 http://localhost:8080/fhir/Patient/12153/_history/1\n",
      "Alejandro916 Sergio619 Espinoza81 http://localhost:8080/fhir/Patient/25302/_history/1\n",
      "Jamison785 Lindgren255 http://localhost:8080/fhir/Patient/697388bd-f26d-4485-8e98-c3aa204b0a87/_history/1\n",
      "Sharell873 Jaskolski867 http://localhost:8080/fhir/Patient/731f60b8-8e9f-4acc-afe8-7163269548a5/_history/1\n",
      "Bruno518 Haley279 http://localhost:8080/fhir/Patient/25553/_history/1\n",
      "Shaun461 Stanton715 http://localhost:8080/fhir/Patient/716b6163-351a-4e04-b10f-fbe40d41d4f2/_history/1\n",
      "Trenton748 Carter549 http://localhost:8080/fhir/Patient/619c77b7-a3ff-49f9-8450-766e9cf1f61d/_history/1\n",
      "Vincenzo126 Hermiston71 http://localhost:8080/fhir/Patient/b24d8481-861b-4f07-b0f4-ecd4a8752cd4/_history/1\n",
      "Violette536 Rath779 http://localhost:8080/fhir/Patient/a7179248-bd6a-4880-adef-c4b3fbb734d4/_history/1\n",
      "Myra819 Howell947 http://localhost:8080/fhir/Patient/193bf48f-9077-49e5-8cb9-3aa8324eca0f/_history/1\n",
      "Florencio463 Granville802 Lindgren255 http://localhost:8080/fhir/Patient/25841/_history/1\n",
      "Miguel815 Brakus656 http://localhost:8080/fhir/Patient/d7365f8b-5aa9-426a-adee-8408f162f4f8/_history/1\n",
      "Luz785 Cordero852 http://localhost:8080/fhir/Patient/33641/_history/1\n",
      "Mariana775 Cervantes583 http://localhost:8080/fhir/Patient/26cb15b4-34bc-43dd-b230-f4eb383291f1/_history/1\n",
      "Maria750 Wiegand701 http://localhost:8080/fhir/Patient/eb548604-5420-4a8c-ba84-6726300762e5/_history/1\n",
      "Lynn917 Wuckert783 http://localhost:8080/fhir/Patient/113f3edb-ca13-4627-9850-444acfc72d30/_history/1\n",
      "Allyson474 Crooks415 http://localhost:8080/fhir/Patient/35568568-1c32-44ba-8bdb-8168eccb0f22/_history/1\n",
      "Jama227 Braun514 http://localhost:8080/fhir/Patient/4e4b7448-3a78-47f7-b377-4e4d09aa6987/_history/1\n",
      "Lou594 Mosciski958 http://localhost:8080/fhir/Patient/16bf4b9b-8468-41ec-a91d-58e5d32baed2/_history/1\n",
      "Kimberlie352 Schinner682 http://localhost:8080/fhir/Patient/17d405b4-23b5-46b4-876f-4dfdfba70e9b/_history/1\n",
      "Kenneth671 Homenick806 http://localhost:8080/fhir/Patient/ddf0620f-3d7a-4caa-8407-6f60c6446d5e/_history/1\n",
      "Kelle203 Erdman779 http://localhost:8080/fhir/Patient/9e16849b-1efc-44d2-86ec-ac2067fa089f/_history/1\n",
      "Curtis94 Rosenbaum794 http://localhost:8080/fhir/Patient/baaff588-1dd1-4a57-b6e9-f1f286d667ab/_history/1\n",
      "Deneen201 Jacobs452 http://localhost:8080/fhir/Patient/f7e55908-5042-4669-b7f4-02e573374af6/_history/1\n",
      "Efren426 Goyette777 http://localhost:8080/fhir/Patient/3c0fdbdf-1888-4a0e-8de4-1f3dacb3f6bc/_history/1\n",
      "Alona471 Eichmann909 http://localhost:8080/fhir/Patient/11bc5bbb-cca4-427b-8135-3e8ba6aaa153/_history/1\n",
      "Ariel183 Muller251 http://localhost:8080/fhir/Patient/a9d43cca-35ff-4ccc-8f2e-15765a351487/_history/1\n",
      "Carmen818 Ryan260 http://localhost:8080/fhir/Patient/49f9c7e6-6e81-4037-be30-c8484843848c/_history/1\n",
      "Chris95 Boyer713 http://localhost:8080/fhir/Patient/125aadff-0e3e-4a5f-96cc-bb031757f230/_history/1\n",
      "Cordelia715 Schaden604 http://localhost:8080/fhir/Patient/23e30644-9e6e-442d-b123-f37d98d267ec/_history/1\n",
      "Clotilde434 Fritsch593 http://localhost:8080/fhir/Patient/dec0b447-5e6d-40ec-9209-cb69d156663e/_history/1\n",
      "Rocco842 Zboncak558 http://localhost:8080/fhir/Patient/0ed60bfc-7efc-410d-ba43-2ac270115582/_history/1\n",
      "Maile198 Sanford861 http://localhost:8080/fhir/Patient/34486/_history/1\n",
      "Mildred587 Farrell962 http://localhost:8080/fhir/Patient/35251/_history/1\n",
      "Telma919 Kenia28 Kemmer137 http://localhost:8080/fhir/Patient/24313/_history/1\n",
      "Nichole96 Josefina523 Erdman779 http://localhost:8080/fhir/Patient/35280/_history/1\n",
      "Terrance440 Rene434 Armstrong51 http://localhost:8080/fhir/Patient/25006/_history/1\n",
      "Norma469 Tory770 Gibson10 http://localhost:8080/fhir/Patient/35577/_history/1\n",
      "Telma919 Kenia28 Kemmer137 http://localhost:8080/fhir/Patient/37136/_history/1\n",
      "Terrance440 Rene434 Armstrong51 http://localhost:8080/fhir/Patient/37829/_history/1\n",
      "Janee223 Dalene805 Collins926 http://localhost:8080/fhir/Patient/26404/_history/1\n",
      "Total patients: 52\n"
     ]
    }
   ],
   "source": [
    "//read Organization \"東部醫療網路\" from DB\n",
    "Bundle response = client\n",
    "                .search()\n",
    "                .forResource(Organization.class)\n",
    "                .where(Organization.NAME.matchesExactly().value(\"東部醫療網路\"))\n",
    "                .returnBundle(Bundle.class)\n",
    "                .execute();\n",
    "Organization organization = (Organization) response.getEntry().get(0).getResource();\n",
    "\n",
    "// Read all patient from DB\n",
    "Bundle response = client.search().forResource(Patient.class).returnBundle(Bundle.class).execute();\n",
    "\n",
    "// count patients\n",
    "int count = 0;\n",
    "while (true) {\n",
    "    for (Bundle.BundleEntryComponent entry : response.getEntry()) {\n",
    "        Resource resource = entry.getResource();\n",
    "        if (resource instanceof Patient) {\n",
    "            Patient patient = (Patient) resource;\n",
    "            // Set general practitioner as \"東部醫療網路\"\n",
    "            patient.setGeneralPractitioner(List.of(new Reference(\"Organization\" + \"/\" + organization.getIdElement().getIdPart())));\n",
    "            // Update patient\n",
    "            MethodOutcome outcome = client.update().resource(patient).execute();\n",
    "            //Print patient name & patient id\n",
    "            System.out.println(patient.getName().get(0).getGivenAsSingleString() + \" \" + patient.getName().get(0).getFamily() + \" \" + patient.getId());\n",
    "            count++;\n",
    "        }\n",
    "    }\n",
    "    // Load next page\n",
    "    if (response.getLink(Bundle.LINK_NEXT) != null) {\n",
    "        response = client.loadPage().next(response).execute();\n",
    "    } else {\n",
    "        break;\n",
    "    }\n",
    "}\n",
    "System.out.println(\"Total patients: \" + count);"
   ]
  }
 ],
 "metadata": {
  "kernelspec": {
   "display_name": "Java",
   "language": "java",
   "name": "java"
  },
  "language_info": {
   "codemirror_mode": "java",
   "file_extension": ".jshell",
   "mimetype": "text/x-java-source",
   "name": "java",
   "pygments_lexer": "java",
   "version": "17.0.9+11-LTS-201"
  }
 },
 "nbformat": 4,
 "nbformat_minor": 2
}
