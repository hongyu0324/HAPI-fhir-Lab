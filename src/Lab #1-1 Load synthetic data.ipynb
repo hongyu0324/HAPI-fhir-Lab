{
 "cells": [
  {
   "cell_type": "code",
   "execution_count": 1,
   "metadata": {
    "vscode": {
     "languageId": "java"
    }
   },
   "outputs": [],
   "source": [
    "%loadFromPOM pom.xml"
   ]
  },
  {
   "cell_type": "code",
   "execution_count": 2,
   "metadata": {
    "vscode": {
     "languageId": "java"
    }
   },
   "outputs": [],
   "source": [
    "import ca.uhn.fhir.context.FhirContext;\n",
    "import ca.uhn.fhir.rest.client.api.*;\n",
    "import ca.uhn.fhir.rest.api.MethodOutcome;\n",
    "import org.hl7.fhir.r4.model.*;\n",
    "import org.hl7.fhir.instance.model.api.*;\n",
    "import java.nio.file.*;"
   ]
  },
  {
   "cell_type": "code",
   "execution_count": 3,
   "metadata": {
    "vscode": {
     "languageId": "java"
    }
   },
   "outputs": [],
   "source": [
    "FhirContext ctx = FhirContext.forR4();\n",
    "ctx.getRestfulClientFactory().setSocketTimeout(60 * 10 * 100);\n",
    "String serverBase = \"http://localhost:8080/fhir\";\n",
    "IGenericClient client = ctx.newRestfulGenericClient(serverBase);"
   ]
  },
  {
   "cell_type": "markdown",
   "metadata": {},
   "source": [
    "背景：FHIR API"
   ]
  },
  {
   "cell_type": "code",
   "execution_count": 4,
   "metadata": {
    "vscode": {
     "languageId": "java"
    }
   },
   "outputs": [
    {
     "name": "stdout",
     "output_type": "stream",
     "text": [
      "Loading ..\\synthetic-data\\fhir\\hospitalInformation1702486193529.json\n",
      "Loading ..\\synthetic-data\\fhir\\practitionerInformation1702486193529.json\n"
     ]
    }
   ],
   "source": [
    "// Load synthetic data from /synthetic-data/fhir directory\n",
    "String path = \"../synthetic-data/fhir\";\n",
    "try {\n",
    "    Files.walk(Paths.get(path)).forEach(filePath -> {\n",
    "        if (Files.isRegularFile(filePath)) {\n",
    "           \n",
    "            // Only load resources from the /synthetic-data/fhir directory with file name start with \"practitionerinformation\"\n",
    "            if (filePath.toString().contains(\"practitionerInformation\") || filePath.toString().contains(\"hospitalInformation\")) {\n",
    "                System.out.println(\"Loading \" + filePath);\n",
    "                // Read the file as a string\n",
    "                String resourceString = \"\";\n",
    "                try {\n",
    "                    resourceString = new String(Files.readAllBytes(filePath));\n",
    "                } catch (IOException e) {\n",
    "                    e.printStackTrace();\n",
    "                }\n",
    "                // Parse the string to a FHIR resource\n",
    "                Bundle bundle = ctx.newJsonParser().parseResource(Bundle.class, resourceString);\n",
    "                // Use the client to store a new resource instance\n",
    "                IBaseBundle outcome = client.transaction().withBundle(bundle).execute(); \n",
    "            }\n",
    "        }\n",
    "        {\n",
    "            //System.out.println(\"Skipping \" + filePath);\n",
    "        }\n",
    "    });\n",
    "} catch (IOException e) {\n",
    "    e.printStackTrace();\n",
    "}"
   ]
  },
  {
   "cell_type": "code",
   "execution_count": 5,
   "metadata": {
    "vscode": {
     "languageId": "java"
    }
   },
   "outputs": [
    {
     "name": "stdout",
     "output_type": "stream",
     "text": [
      "Andre610 Lueilwitz711\n",
      "Bao544 Gusikowski974\n",
      "Carol737 Raymundo71 Lueilwitz711\n",
      "Davina555 Jacqulyn231 MacGyver246\n",
      "Frances376 Fahey393\n",
      "Hans694 Ivory697 Bayer639\n",
      "Jamey282 Moses679 Herzog843\n",
      "Jarod376 Pedro316 Weissnat378\n",
      "Kattie846 Cecile401 Tremblay80\n",
      "Latosha740 Mercy752 Emmerich580\n",
      "Mack300 Cory323 Stracke611\n",
      "Magdalena964 Anita473 Núñez242\n",
      "Trang668 Angie214 Abshire638\n",
      "Warner493 Carter549\n",
      "Warren653 Gaylord332 Hessel84\n"
     ]
    }
   ],
   "source": [
    "// Load synthetic data from /synthetic-data/fhir directory\n",
    "String path = \"../synthetic-data/fhir\";\n",
    "try {\n",
    "    Files.walk(Paths.get(path)).forEach(filePath -> {\n",
    "        if (Files.isRegularFile(filePath)) {\n",
    "            try {\n",
    "                String resource = Files.readString(filePath);\n",
    "                Bundle bundle = ctx.newJsonParser().parseResource(Bundle.class, resource);\n",
    "                for (Bundle.BundleEntryComponent entry : bundle.getEntry()) {\n",
    "                    Resource r = entry.getResource();\n",
    "                    // Print resource type and id\n",
    "                    String type = r.getResourceType().name();\n",
    "                    if(type.equals(\"Patient\") == true ){\n",
    "                        // Print patient name\n",
    "                        Patient patient = (Patient) r;\n",
    "                        System.out.println(patient.getName().get(0).getGivenAsSingleString() + \" \" + patient.getName().get(0).getFamily());\n",
    "                    }\n",
    "                }\n",
    "                // create a client and post the transaction to the server\n",
    "                IBaseBundle outcome = client.transaction().withBundle(bundle).execute();\n",
    "                \n",
    "\n",
    "            } catch (Exception e) {\n",
    "                System.out.println(\"Error: \" + filePath + \" \" + e.getMessage());\n",
    "            }\n",
    "        }\n",
    "    });\n",
    "} catch (IOException e) {\n",
    "    System.out.println(\"Error reading files: \" + e.getMessage());\n",
    "}\n"
   ]
  },
  {
   "cell_type": "code",
   "execution_count": null,
   "metadata": {
    "vscode": {
     "languageId": "java"
    }
   },
   "outputs": [],
   "source": []
  }
 ],
 "metadata": {
  "kernelspec": {
   "display_name": "Java",
   "language": "java",
   "name": "java"
  },
  "language_info": {
   "codemirror_mode": "java",
   "file_extension": ".jshell",
   "mimetype": "text/x-java-source",
   "name": "Java",
   "pygments_lexer": "java",
   "version": "17.0.9+11-LTS-201"
  }
 },
 "nbformat": 4,
 "nbformat_minor": 2
}
