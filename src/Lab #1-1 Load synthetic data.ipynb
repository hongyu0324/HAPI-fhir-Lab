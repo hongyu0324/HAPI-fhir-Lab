{
 "cells": [
  {
   "cell_type": "code",
   "execution_count": 1,
   "metadata": {
    "vscode": {
     "languageId": "java"
    }
   },
   "outputs": [],
   "source": [
    "%loadFromPOM pom.xml"
   ]
  },
  {
   "cell_type": "code",
   "execution_count": 2,
   "metadata": {
    "vscode": {
     "languageId": "java"
    }
   },
   "outputs": [],
   "source": [
    "import ca.uhn.fhir.context.FhirContext;\n",
    "import ca.uhn.fhir.rest.client.api.*;\n",
    "import ca.uhn.fhir.rest.api.MethodOutcome;\n",
    "import org.hl7.fhir.r4.model.*;\n",
    "import org.hl7.fhir.instance.model.api.*;\n",
    "import java.nio.file.*;"
   ]
  },
  {
   "cell_type": "code",
   "execution_count": 3,
   "metadata": {
    "vscode": {
     "languageId": "java"
    }
   },
   "outputs": [],
   "source": [
    "FhirContext ctx = FhirContext.forR4();\n",
    "ctx.getRestfulClientFactory().setSocketTimeout(60 * 10 * 100);\n",
    "String serverBase = \"http://localhost:8080/fhir\";\n",
    "IGenericClient client = ctx.newRestfulGenericClient(serverBase);"
   ]
  },
  {
   "cell_type": "markdown",
   "metadata": {},
   "source": [
    "背景：FHIR API"
   ]
  },
  {
   "cell_type": "code",
   "execution_count": 4,
   "metadata": {
    "vscode": {
     "languageId": "java"
    }
   },
   "outputs": [
    {
     "name": "stdout",
     "output_type": "stream",
     "text": [
      "Loading ..\\synthetic-data\\fhir\\hospitalInformation1702866679212.json\n",
      "Loading ..\\synthetic-data\\fhir\\practitionerInformation1702866679212.json\n"
     ]
    }
   ],
   "source": [
    "// Load synthetic data from /synthetic-data/fhir directory\n",
    "String path = \"../synthetic-data/fhir\";\n",
    "try {\n",
    "    Files.walk(Paths.get(path)).forEach(filePath -> {\n",
    "        if (Files.isRegularFile(filePath)) {\n",
    "           \n",
    "            // Only load resources from the /synthetic-data/fhir directory with file name start with \"practitionerinformation\"\n",
    "            if (filePath.toString().contains(\"practitionerInformation\") || filePath.toString().contains(\"hospitalInformation\")) {\n",
    "                System.out.println(\"Loading \" + filePath);\n",
    "                // Read the file as a string\n",
    "                String resourceString = \"\";\n",
    "                try {\n",
    "                    resourceString = new String(Files.readAllBytes(filePath));\n",
    "                } catch (IOException e) {\n",
    "                    e.printStackTrace();\n",
    "                }\n",
    "                // Parse the string to a FHIR resource\n",
    "                Bundle bundle = ctx.newJsonParser().parseResource(Bundle.class, resourceString);\n",
    "                // Use the client to store a new resource instance\n",
    "                IBaseBundle outcome = client.transaction().withBundle(bundle).execute(); \n",
    "            }\n",
    "        }\n",
    "        {\n",
    "            //System.out.println(\"Skipping \" + filePath);\n",
    "        }\n",
    "    });\n",
    "} catch (IOException e) {\n",
    "    e.printStackTrace();\n",
    "}"
   ]
  },
  {
   "cell_type": "code",
   "execution_count": 5,
   "metadata": {
    "vscode": {
     "languageId": "java"
    }
   },
   "outputs": [
    {
     "name": "stdout",
     "output_type": "stream",
     "text": [
      "Breanna581 Natisha940 Turcotte120\n",
      "Briana139 Davida245 Heller342\n",
      "Burma963 Myrtie622 Terry864\n",
      "Cathi439 Reynolds644\n",
      "Corine538 Becki838 Kuvalis369\n",
      "Douglas31 Deandre599 Batz141\n",
      "Ezekiel373 Ratke343\n",
      "Federico589 Berge125\n",
      "Geoffrey157 Clayton230 Krajcik437\n",
      "Hilario934 Rashad361 Tromp100\n",
      "Ismael683 Quincy153 Grant908\n",
      "Joyce806 Cristen212 Fritsch593\n",
      "Juliette736 Edris973 Frami345\n",
      "Keith571 Gaynelle249 Larson43\n",
      "Magnolia736 Kam191 Sipes176\n",
      "Maya972 Sauer652\n",
      "Meg231 Muller251\n",
      "Melodie819 Yolande652 Nader710\n",
      "Minh326 Alberto639 Streich926\n",
      "Mohamed943 Herbert830 Dare640\n",
      "Palmira118 Estella474 Zulauf375\n",
      "Rebecka733 Zieme486\n",
      "Ricky354 Rogelio17 Cassin499\n",
      "Roscoe437 Virgilio529 Wiza601\n",
      "Rufus33 Gulgowski816\n",
      "Samual455 Stehr398\n",
      "Sylvester827 Emanuel231 Wyman904\n",
      "Tim88 Schiller186\n",
      "Tommye961 Alejandrina481 Bruen238\n",
      "Tyree261 Graham902\n",
      "Valentine262 Miles206 Okuneva707\n"
     ]
    }
   ],
   "source": [
    "// Load synthetic data from /synthetic-data/fhir directory\n",
    "String path = \"../synthetic-data/fhir\";\n",
    "try {\n",
    "    Files.walk(Paths.get(path)).forEach(filePath -> {\n",
    "        if (Files.isRegularFile(filePath)) {\n",
    "            try {\n",
    "                String resource = Files.readString(filePath);\n",
    "                Bundle bundle = ctx.newJsonParser().parseResource(Bundle.class, resource);\n",
    "                for (Bundle.BundleEntryComponent entry : bundle.getEntry()) {\n",
    "                    Resource r = entry.getResource();\n",
    "                    // Print resource type and id\n",
    "                    String type = r.getResourceType().name();\n",
    "                    if(type.equals(\"Patient\") == true ){\n",
    "                        // Print patient name\n",
    "                        Patient patient = (Patient) r;\n",
    "                        System.out.println(patient.getName().get(0).getGivenAsSingleString() + \" \" + patient.getName().get(0).getFamily());\n",
    "                    }\n",
    "                }\n",
    "                // create a client and post the transaction to the server\n",
    "                IBaseBundle outcome = client.transaction().withBundle(bundle).execute();\n",
    "                \n",
    "\n",
    "            } catch (Exception e) {\n",
    "                System.out.println(\"Error: \" + filePath + \" \" + e.getMessage());\n",
    "            }\n",
    "        }\n",
    "    });\n",
    "} catch (IOException e) {\n",
    "    System.out.println(\"Error reading files: \" + e.getMessage());\n",
    "}\n"
   ]
  },
  {
   "cell_type": "code",
   "execution_count": null,
   "metadata": {
    "vscode": {
     "languageId": "java"
    }
   },
   "outputs": [],
   "source": []
  }
 ],
 "metadata": {
  "kernelspec": {
   "display_name": "Java",
   "language": "java",
   "name": "java"
  },
  "language_info": {
   "codemirror_mode": "java",
   "file_extension": ".jshell",
   "mimetype": "text/x-java-source",
   "name": "Java",
   "pygments_lexer": "java",
   "version": "17.0.9+11-LTS-201"
  }
 },
 "nbformat": 4,
 "nbformat_minor": 2
}
