{
 "cells": [
  {
   "cell_type": "code",
   "execution_count": null,
   "metadata": {},
   "outputs": [],
   "source": [
    "%loadFromPOM pom.xml\n",
    "%classpath C:\\\\Project\\\\HAPI-fhir-Lab"
   ]
  },
  {
   "cell_type": "code",
   "execution_count": null,
   "metadata": {},
   "outputs": [],
   "source": [
    "import ca.uhn.fhir.context.FhirContext;\n",
    "import ca.uhn.fhir.rest.client.api.*;\n",
    "import ca.uhn.fhir.rest.api.MethodOutcome;\n",
    "import ca.uhn.fhir.validation.*;\n",
    "import org.hl7.fhir.r4.model.*;\n",
    "import org.hl7.fhir.common.hapi.validation.validator.*;\n",
    "import org.hl7.fhir.common.hapi.validation.support.*;\n",
    "import ca.uhn.fhir.context.support.*;\n",
    "import ca.uhn.fhir.util.*;\n",
    "import org.hl7.fhir.instance.model.api.*;\n",
    "import java.nio.file.*;"
   ]
  },
  {
   "cell_type": "code",
   "execution_count": null,
   "metadata": {},
   "outputs": [],
   "source": [
    "FhirContext ctx = FhirContext.forR4();\n",
    "String serverBase = \"http://localhost:8080/fhir\";\n",
    "IGenericClient client = ctx.newRestfulGenericClient(serverBase);"
   ]
  },
  {
   "cell_type": "code",
   "execution_count": null,
   "metadata": {},
   "outputs": [],
   "source": [
    "// Create a validator and register it with the context\n",
    "FhirValidator validator = ctx.newValidator();\n",
    "\n",
    "// Create a validation module and register itwith the validator\n",
    "//IValidatorModule module = new FhirInstanceValidator(ctx);\n",
    "\n",
    "// Register the module with the validator\n",
    "//validator.registerValidatorModule(module);\n",
    "\n",
    "NpmPackageValidationSupport npmPackageSupport = new NpmPackageValidationSupport(ctx);\n",
    "npmPackageSupport.loadPackageFromClasspath(\"classpath:profiles/tw-core-ig-v0.1.1.tgz\");\n",
    "\n",
    "// Create a validation support chain\n",
    "ValidationSupportChain validationSupportChain = new ValidationSupportChain(\n",
    "    npmPackageSupport,\n",
    "    new DefaultProfileValidationSupport(ctx),\n",
    "    new InMemoryTerminologyServerValidationSupport(ctx),\n",
    "    new CommonCodeSystemsTerminologyService(ctx),\n",
    "    new SnapshotGeneratingValidationSupport(ctx));\n",
    "\n",
    "// Set the chain on the validator\n",
    "FhirInstanceValidator instanceValidator = new FhirInstanceValidator(validationSupportChain);\n",
    "validator.registerValidatorModule(instanceValidator);"
   ]
  },
  {
   "cell_type": "code",
   "execution_count": 24,
   "metadata": {},
   "outputs": [
    {
     "data": {
      "text/plain": [
       "C:\\Project\\HAPI-fhir-Lab\\synthetic-data\\fhir\\hospitalInformation-out.json"
      ]
     },
     "execution_count": 24,
     "metadata": {},
     "output_type": "execute_result"
    }
   ],
   "source": [
    "Map<String, String> resourceProfiles = new HashMap<>();\n",
    "resourceProfiles.put(\"Organization\", \"https://twcore.mohw.gov.tw/ig/twcore/StructureDefinition/Organization-hosp-twcore\");\n",
    "resourceProfiles.put(\"Patient\", \"https://twcore.mohw.gov.tw/ig/twcore/StructureDefinition/Patient-twcore\");\n",
    "resourceProfiles.put(\"Observation\", \"https://twcore.mohw.gov.tw/ig/twcore/StructureDefinition/Observation-vitalSigns-twcore\");\n",
    "resourceProfiles.put(\"MedicationRequest\", \"https://twcore.mohw.gov.tw/ig/twcore/StructureDefinition/MedicationRequest-twcore\");\n",
    "resourceProfiles.put(\"Medication\", \"https://twcore.mohw.gov.tw/ig/twcore/StructureDefinition/Medication-twcore\");\n",
    "resourceProfiles.put(\"Encounter\", \"https://twcore.mohw.gov.tw/ig/twcore/StructureDefinition/Encounter-twcore\");\n",
    "resourceProfiles.put(\"Condition\", \"https://twcore.mohw.gov.tw/ig/twcore/StructureDefinition/Condition-twcore\");\n",
    "resourceProfiles.put(\"DiagnosticReport\", \"https://twcore.mohw.gov.tw/ig/twcore/StructureDefinition/DiagnosticReport-twcore\");\n",
    "resourceProfiles.put(\"Procedure\", \"https://twcore.mohw.gov.tw/ig/twcore/StructureDefinition/Procedure-twcore\");\n",
    "resourceProfiles.put(\"Practitioner\", \"https://twcore.mohw.gov.tw/ig/twcore/StructureDefinition/Practitioner-twcore\");\n",
    "\n",
    "// Read JSON-encoded FHIR resource from file\n",
    "String filePath = \"C:\\\\Project\\\\HAPI-fhir-Lab\\\\synthetic-data\\\\fhir\\\\hospitalInformation.json\";\n",
    "String json = new String(Files.readAllBytes(Paths.get(filePath)));\n",
    "\n",
    "// Parse JSON-encoded FHIR resource\n",
    "Bundle bundle = ctx.newJsonParser().parseResource(Bundle.class, json);\n",
    "\n",
    "// From Bundle, read data\n",
    "ValidationResult result = null;\n",
    "String resourceType = null;\n",
    "\n",
    "// Create a new bundle\n",
    "Bundle outBundle = new Bundle(); \n",
    "outBundle.setType(Bundle.BundleType.TRANSACTION);\n",
    "\n",
    "for (Bundle.BundleEntryComponent entry : bundle.getEntry()) {\n",
    "    result = null;\n",
    "    resourceType = entry.getResource().getResourceType().name();\n",
    "\n",
    "    DomainResource resource = (DomainResource) entry.getResource();\n",
    "    \n",
    "    resource.getMeta().addProfile(resourceProfiles.get(resourceType));\n",
    "    result = validator.validateWithResult(resource);\n",
    "    while (result != null && !result.isSuccessful()) {\n",
    "        if (resourceType == \"Organization\") {\n",
    "            Organization org = (Organization) resource;\n",
    "            Identifier id = new Identifier();\n",
    "            org.setIdentifier(null);\n",
    "            org.setExtension(null);\n",
    "            id.setSystem(\"https://twcore.mohw.gov.tw/ig/twcore/CodeSystem/organization-identifier-tw\");\n",
    "            id.setValue(org.getName());\n",
    "            org.addIdentifier(id);\n",
    "            resource = org;\n",
    "        }\n",
    "        else if(resourceTypes == \"Patient\"){\n",
    "            Patient patient = (Patient) resource;\n",
    "            Identifier id = new Identifier();\n",
    "            \n",
    "        }      \n",
    "        result = validator.validateWithResult(resource);\n",
    "    }\n",
    "    \n",
    "    outBundle.addEntry()\n",
    "        .setFullUrl(resource.getIdElement().getValue())\n",
    "        .setResource(resource)\n",
    "        .getRequest()\n",
    "        .setUrl(resourceType)\n",
    "        .setMethod(Bundle.HTTPVerb.PUT);\n",
    "}\n",
    "\n",
    "//serialize the bundle to output json filr \"C:\\\\Project\\\\HAPI-fhir-Lab\\\\synthetic-out\\\\fhir\\\\hospitalInformation-out.json\"\n",
    "String outJson = ctx.newJsonParser().setPrettyPrint(true).encodeResourceToString(bundle);\n",
    "\n",
    "// Write JSON-encoded FHIR resource to file\n",
    "String outFilePath = \"C:\\\\Project\\\\HAPI-fhir-Lab\\\\synthetic-data\\\\fhir\\\\hospitalInformation-out.json\";\n",
    "Files.write(Paths.get(outFilePath), outJson.getBytes());"
   ]
  }
 ],
 "metadata": {
  "kernelspec": {
   "display_name": "Java",
   "language": "java",
   "name": "java"
  },
  "language_info": {
   "codemirror_mode": "java",
   "file_extension": ".jshell",
   "mimetype": "text/x-java-source",
   "name": "java",
   "pygments_lexer": "java",
   "version": "17.0.9+11-LTS-201"
  }
 },
 "nbformat": 4,
 "nbformat_minor": 2
}
