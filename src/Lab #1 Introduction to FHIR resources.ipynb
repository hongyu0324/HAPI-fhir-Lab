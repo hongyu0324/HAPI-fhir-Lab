{
 "cells": [
  {
   "cell_type": "code",
   "execution_count": null,
   "metadata": {
    "vscode": {
     "languageId": "java"
    }
   },
   "outputs": [],
   "source": [
    "System.out.println(\"Hello World\");"
   ]
  },
  {
   "cell_type": "code",
   "execution_count": null,
   "metadata": {
    "vscode": {
     "languageId": "java"
    }
   },
   "outputs": [],
   "source": [
    "%loadFromPOM pom.xml"
   ]
  },
  {
   "cell_type": "code",
   "execution_count": null,
   "metadata": {
    "vscode": {
     "languageId": "java"
    }
   },
   "outputs": [],
   "source": [
    "import ca.uhn.fhir.context.FhirContext;\n",
    "import ca.uhn.fhir.rest.client.api.IGenericClient;\n",
    "import ca.uhn.fhir.rest.api.MethodOutcome;\n",
    "import org.hl7.fhir.r4.model.*;"
   ]
  },
  {
   "cell_type": "code",
   "execution_count": null,
   "metadata": {
    "vscode": {
     "languageId": "java"
    }
   },
   "outputs": [],
   "source": [
    "FhirContext ctx = FhirContext.forR4();\n",
    "String serverBase = \"http://localhost:8080/fhir\";\n",
    "IGenericClient client = ctx.newRestfulGenericClient(serverBase);"
   ]
  },
  {
   "cell_type": "code",
   "execution_count": null,
   "metadata": {
    "vscode": {
     "languageId": "java"
    }
   },
   "outputs": [],
   "source": [
    "Bundle patients = client.search()\n",
    "        .forResource(Patient.class)\n",
    "        .returnBundle(Bundle.class)\n",
    "        .execute();\n",
    "\n",
    "for(Bundle.BundleEntryComponent entry : patients.getEntry()) {\n",
    "    Patient patient = (Patient) entry.getResource();\n",
    "    HumanName name = patient.getName().get(0);\n",
    "    // Print the patient's family name and given name(s)\n",
    "    System.out.println( name.getFamily() +\" \"+ name.getGivenAsSingleString());\n",
    "}"
   ]
  },
  {
   "cell_type": "code",
   "execution_count": null,
   "metadata": {
    "vscode": {
     "languageId": "java"
    }
   },
   "outputs": [],
   "source": [
    "\n",
    "patients = client.search()\n",
    "        .forResource(Patient.class)\n",
    "        // sort by family name ascending, then given name ascending. \n",
    "        .sort().ascending(Patient.BIRTHDATE)\n",
    "        .returnBundle(Bundle.class)\n",
    "        .execute();\n",
    "\n",
    "for(Bundle.BundleEntryComponent entry : patients.getEntry()) {\n",
    "    Patient patient = (Patient) entry.getResource();\n",
    "    HumanName name = patient.getName().get(0);\n",
    "    System.out.println( name.getFamily() + \" \" + name.getGivenAsSingleString() + \" \" + patient.getBirthDate());\n",
    "}"
   ]
  },
  {
   "cell_type": "code",
   "execution_count": null,
   "metadata": {
    "vscode": {
     "languageId": "java"
    }
   },
   "outputs": [],
   "source": [
    "// Perform a search\n",
    "Bundle results = client.search()\n",
    "      .forResource(Patient.class)\n",
    "      .where(Patient.FAMILY.matches().value(\"陳\"))\n",
    "      .returnBundle(Bundle.class)\n",
    "      .execute();\n",
    "\n",
    "System.out.println(\"Found \" + results.getEntry().size() + \" patients named '陳'\");\n"
   ]
  },
  {
   "cell_type": "code",
   "execution_count": null,
   "metadata": {
    "vscode": {
     "languageId": "java"
    }
   },
   "outputs": [],
   "source": [
    "//Create a new patient, add name, address, birthday on 1969-04-01 and then save it to the server\n",
    "Patient newPatient = new Patient();\n",
    "newPatient.addName().setFamily(\"陳\").addGiven(\"大明\");\n",
    "newPatient.addAddress().setCity(\"台北市\").setCountry(\"台灣\");\n",
    "newPatient.setBirthDateElement(new DateType(\"1939-04-01\"));\n",
    "\n",
    "// Invoke the server create method (and send pretty-printed JSON\n",
    "// encoding to the server\n",
    "MethodOutcome  outcome = client.create()\n",
    "    .resource(newPatient)\n",
    "    .prettyPrint()\n",
    "    .encodedJson()\n",
    "    .execute();\n",
    "    \n",
    "System.out.println(\"Got ID: \" + outcome.getId());"
   ]
  }
 ],
 "metadata": {
  "kernelspec": {
   "display_name": "Java",
   "language": "java",
   "name": "java"
  },
  "language_info": {
   "codemirror_mode": "java",
   "file_extension": ".jshell",
   "mimetype": "text/x-java-source",
   "name": "Java",
   "pygments_lexer": "java",
   "version": "17.0.9+11-LTS-201"
  }
 },
 "nbformat": 4,
 "nbformat_minor": 4
}
