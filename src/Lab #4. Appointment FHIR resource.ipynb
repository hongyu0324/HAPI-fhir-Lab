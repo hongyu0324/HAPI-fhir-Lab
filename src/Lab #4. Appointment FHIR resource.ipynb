{
 "cells": [
  {
   "cell_type": "code",
   "execution_count": null,
   "metadata": {
    "vscode": {
     "languageId": "java"
    }
   },
   "outputs": [],
   "source": [
    "%loadFromPOM pom.xml"
   ]
  },
  {
   "cell_type": "code",
   "execution_count": null,
   "metadata": {
    "vscode": {
     "languageId": "java"
    }
   },
   "outputs": [],
   "source": [
    "import ca.uhn.fhir.context.FhirContext;\n",
    "import ca.uhn.fhir.rest.client.api.*;\n",
    "import ca.uhn.fhir.rest.api.MethodOutcome;\n",
    "import org.hl7.fhir.r4.model.*;"
   ]
  },
  {
   "cell_type": "code",
   "execution_count": null,
   "metadata": {
    "vscode": {
     "languageId": "java"
    }
   },
   "outputs": [],
   "source": [
    "FhirContext ctx = FhirContext.forR4();\n",
    "String serverBase = \"http://localhost:8080/fhir\";\n",
    "IGenericClient client = ctx.newRestfulGenericClient(serverBase);"
   ]
  },
  {
   "cell_type": "code",
   "execution_count": null,
   "metadata": {
    "vscode": {
     "languageId": "java"
    }
   },
   "outputs": [],
   "source": [
    "// Find the practitioner we've choosen before. Her name is Kelly Smith\n",
    "Bundle practitionerBundle = client.search().forResource(Practitioner.class)\n",
    "    .where(Practitioner.NAME.matches().value(\"Kelly Smith\"))\n",
    "    .returnBundle(Bundle.class)\n",
    "    .execute();\n",
    "\n",
    "Practitioner practitioner = (Practitioner) practitionerBundle.getEntry().get(0).getResource();\n",
    "\n"
   ]
  },
  {
   "cell_type": "code",
   "execution_count": null,
   "metadata": {
    "vscode": {
     "languageId": "java"
    }
   },
   "outputs": [],
   "source": [
    "// find the schedule to use with practitioner\n",
    "Bundle scheduleBundle = client.search().forResource(Schedule.class)\n",
    "    .where(Schedule.ACTOR.hasId(practitioner.getIdElement().getIdPart()))\n",
    "    .returnBundle(Bundle.class)\n",
    "    .execute();\n",
    "// get the first schedule\n",
    "Schedule schedule = (Schedule) scheduleBundle.getEntry().get(0).getResource();\n",
    "\n",
    "// list all actors  in the schedule\n",
    "Reference locationRef = null;\n",
    "for (Reference actor : schedule.getActor()) {\n",
    "    System.out.println(actor.getReference());\n",
    "    if (actor.getReference().contains(\"Location\")) {\n",
    "        locationRef = actor;\n",
    "    }\n",
    "}\n",
    "// get the location Resource Object\n",
    "Location location = client.read().resource(Location.class).withId(locationRef.getReferenceElement().getIdPart()).execute();\n",
    "\n",
    "//print the location name and address\n",
    "System.out.println(location.getName());\n",
    "System.out.println(location.getAddress().getLine().get(0));\n",
    "System.out.println(location.getAddress().getCity());\n",
    "System.out.println(location.getAddress().getState());\n",
    "System.out.println(location.getAddress().getPostalCode());\n"
   ]
  },
  {
   "cell_type": "code",
   "execution_count": null,
   "metadata": {
    "vscode": {
     "languageId": "java"
    }
   },
   "outputs": [],
   "source": [
    "// For the schedule found choose a time slot at 11 am on Monday 16th of september 2018\n",
    "// find the slot\n",
    "Bundle slotBundle = client.search().forResource(Slot.class)\n",
    "    .where(Slot.SCHEDULE.hasId(schedule.getIdElement().getIdPart()))\n",
    "    .where(Slot.START.exactly().day(\"2018-09-16\"))\n",
    "    .returnBundle(Bundle.class)\n",
    "    .execute();\n",
    "// Print the start time,end time and status for all slots\n",
    "Slot slotFree = new Slot();\n",
    "for (Bundle.BundleEntryComponent entry : slotBundle.getEntry()) {\n",
    "    Slot slot = (Slot) entry.getResource();\n",
    "    System.out.println(\"Start time: \" + slot.getStart() + \" End time: \" + slot.getEnd() + \" Status: \" + slot.getStatus());\n",
    "    if (slot.getStatus().equals(Slot.SlotStatus.FREE)) {\n",
    "        slotFree = slot;\n",
    "    }\n",
    "}"
   ]
  },
  {
   "cell_type": "code",
   "execution_count": null,
   "metadata": {
    "vscode": {
     "languageId": "java"
    }
   },
   "outputs": [],
   "source": [
    "// Find a patient whose given name is 大明 and family name is 陳\n",
    "Bundle results = client\n",
    "    .search()\n",
    "    .forResource(Patient.class)\n",
    "    .where(Patient.GIVEN.matches().value(\"大明\"))\n",
    "    .and(Patient.FAMILY.matches().value(\"陳\"))\n",
    "    .returnBundle(Bundle.class)\n",
    "    .execute();\n",
    "\n",
    "// Get the first patient from the bundle\n",
    "Patient patient = (Patient) results.getEntry().get(0).getResource();"
   ]
  },
  {
   "cell_type": "code",
   "execution_count": null,
   "metadata": {
    "vscode": {
     "languageId": "java"
    }
   },
   "outputs": [],
   "source": [
    "// Create an appointment\n",
    "Appointment appointment = new Appointment();\n",
    "\n",
    "// Set the status of the appointment\n",
    "appointment.setStatus(Appointment.AppointmentStatus.BOOKED);\n",
    "\n",
    "// Set the start time of the appointment\n",
    "appointment.setStart(slotFree.getStart());\n",
    "\n",
    "// Set the end time of the appointment\n",
    "appointment.setEnd(slotFree.getEnd());\n",
    "\n",
    "Reference refPatient = new Reference();\n",
    "refPatient.setReference(\"Patient/\" + patient.getIdElement().getIdPart());\n",
    "refPatient.setDisplay(patient.getName().get(0).getGivenAsSingleString() + \" \" + patient.getName().get(0).getFamily());\n",
    "appointment.addParticipant()\n",
    "           .setActor(refPatient)\n",
    "           .setStatus(Appointment.ParticipationStatus.ACCEPTED)\n",
    "           .setRequired(Appointment.ParticipantRequired.REQUIRED);\n",
    "\n",
    "Reference refPractitioner = new Reference();\n",
    "refPractitioner.setReference(\"Practitioner/\" + practitioner.getIdElement().getIdPart());\n",
    "refPractitioner.setDisplay(practitioner.getName().get(0).getGivenAsSingleString() + \" \" + practitioner.getName().get(0).getFamily());\n",
    "appointment.addParticipant()\n",
    "           .setActor(refPractitioner)\n",
    "           .setStatus(Appointment.ParticipationStatus.NEEDSACTION)\n",
    "           .setRequired(Appointment.ParticipantRequired.REQUIRED);\n",
    "\n",
    "Reference refLocation = new Reference();\n",
    "refLocation.setReference(\"Location/\" + location.getIdElement().getIdPart());\n",
    "refLocation.setDisplay(location.getName());\n",
    "appointment.addParticipant()\n",
    "           .setActor(refLocation)\n",
    "           .setStatus(Appointment.ParticipationStatus.NEEDSACTION)\n",
    "           .setRequired(Appointment.ParticipantRequired.REQUIRED);\n",
    "\n",
    "// Set the slot of the appointment\n",
    "appointment.addSlot( new Reference(\"Slot/\" + slotFree.getIdElement().getIdPart()));\n",
    "\n",
    "// Set Status of the appointment\n",
    "appointment.setStatus(Appointment.AppointmentStatus.PROPOSED);\n",
    "\n",
    "// Print the appointment\n",
    "// System.out.println(ctx.newJsonParser().setPrettyPrint(true).encodeResourceToString(appointment));\n",
    "\n",
    "// Create the appointment on the server\n",
    "MethodOutcome outcome = client.create().resource(appointment).execute();\n",
    "\n",
    "// Print the id of the created appointment\n",
    "System.out.println(outcome.getId().getValue());"
   ]
  }
 ],
 "metadata": {
  "kernelspec": {
   "display_name": "Java",
   "language": "java",
   "name": "java"
  },
  "language_info": {
   "codemirror_mode": "java",
   "file_extension": ".jshell",
   "mimetype": "text/x-java-source",
   "name": "Java",
   "pygments_lexer": "java",
   "version": "17.0.9+11-LTS-201"
  }
 },
 "nbformat": 4,
 "nbformat_minor": 2
}
