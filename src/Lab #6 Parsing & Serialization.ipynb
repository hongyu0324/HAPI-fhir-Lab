{
 "cells": [
  {
   "cell_type": "code",
   "execution_count": 1,
   "metadata": {
    "vscode": {
     "languageId": "java"
    }
   },
   "outputs": [],
   "source": [
    "%loadFromPOM pom.xml"
   ]
  },
  {
   "cell_type": "code",
   "execution_count": 2,
   "metadata": {
    "vscode": {
     "languageId": "java"
    }
   },
   "outputs": [],
   "source": [
    "import ca.uhn.fhir.context.FhirContext;\n",
    "import ca.uhn.fhir.rest.client.api.*;\n",
    "import ca.uhn.fhir.rest.api.MethodOutcome;\n",
    "import org.hl7.fhir.r4.model.*;\n",
    "import java.nio.file.*;\n",
    "\n"
   ]
  },
  {
   "cell_type": "code",
   "execution_count": 3,
   "metadata": {
    "vscode": {
     "languageId": "java"
    }
   },
   "outputs": [],
   "source": [
    "FhirContext ctx = FhirContext.forR4();\n",
    "String serverBase = \"http://localhost:8080/fhir\";\n",
    "IGenericClient client = ctx.newRestfulGenericClient(serverBase);"
   ]
  },
  {
   "cell_type": "code",
   "execution_count": 9,
   "metadata": {
    "vscode": {
     "languageId": "java"
    }
   },
   "outputs": [
    {
     "name": "stdout",
     "output_type": "stream",
     "text": [
      "Chia Lin\n",
      "陳加玲\n"
     ]
    }
   ],
   "source": [
    "// read FHIR Data from C:\\Project\\HAPI-fhir-Lab\\data\\Patient-pat-example.json\n",
    "String data = Files.readString(Paths.get(\"C:\\\\Project\\\\HAPI-fhir-Lab\\\\data\\\\Patient-pat-example.json\"));\n",
    "\n",
    "// serialize to Patient object\n",
    "Patient pat = ctx.newJsonParser().parseResource(Patient.class, data);\n",
    "\n",
    "// print Patient name\n",
    "System.out.println(pat.getName().get(0).getGivenAsSingleString());\n",
    "\n",
    "// read FHIR Data from C:\\Project\\HAPI-fhir-Lab\\data\\MI-TW_Track2_examples.json\n",
    "data = Files.readString(Paths.get(\"C:\\\\Project\\\\HAPI-fhir-Lab\\\\data\\\\MI-TW_Track2_examples.json\"));\n",
    "\n",
    "// serialize to Bundle object\n",
    "Bundle bundle = ctx.newJsonParser().parseResource(Bundle.class, data);\n",
    "\n",
    "// Read data from Bundle\n",
    "for (Bundle.BundleEntryComponent entry : bundle.getEntry()) {\n",
    "    if (entry.getResource().getResourceType().name().equals(\"Patient\")) {\n",
    "        Patient patient = (Patient) entry.getResource();\n",
    "        System.out.println(patient.getName().get(0).getText());\n",
    "    }\n",
    "}"
   ]
  }
 ],
 "metadata": {
  "kernelspec": {
   "display_name": "Java",
   "language": "java",
   "name": "java"
  },
  "language_info": {
   "codemirror_mode": "java",
   "file_extension": ".jshell",
   "mimetype": "text/x-java-source",
   "name": "Java",
   "pygments_lexer": "java",
   "version": "17.0.9+11-LTS-201"
  }
 },
 "nbformat": 4,
 "nbformat_minor": 2
}
