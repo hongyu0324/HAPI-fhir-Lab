{
 "cells": [
  {
   "cell_type": "code",
   "execution_count": null,
   "metadata": {
    "vscode": {
     "languageId": "java"
    }
   },
   "outputs": [],
   "source": [
    "%loadFromPOM pom.xml"
   ]
  },
  {
   "cell_type": "code",
   "execution_count": null,
   "metadata": {
    "vscode": {
     "languageId": "java"
    }
   },
   "outputs": [],
   "source": [
    "import ca.uhn.fhir.context.FhirContext;\n",
    "import ca.uhn.fhir.rest.client.api.*;\n",
    "import ca.uhn.fhir.rest.api.MethodOutcome;\n",
    "import org.hl7.fhir.r4.model.*;\n",
    "import java.nio.file.*;"
   ]
  },
  {
   "cell_type": "code",
   "execution_count": null,
   "metadata": {
    "vscode": {
     "languageId": "java"
    }
   },
   "outputs": [],
   "source": [
    "FhirContext ctx = FhirContext.forR4();\n",
    "String serverBase = \"http://localhost:8080/fhir\";\n",
    "IGenericClient client = ctx.newRestfulGenericClient(serverBase);"
   ]
  },
  {
   "cell_type": "code",
   "execution_count": 59,
   "metadata": {
    "vscode": {
     "languageId": "java"
    }
   },
   "outputs": [
    {
     "name": "stdout",
     "output_type": "stream",
     "text": [
      "Chia Lin\n",
      "陳加玲\n",
      "Body height Measured\n",
      "Body Weight\n",
      "Capillary refill [Time] of Nail bed\n",
      "Glucose [Mass/volume] in Blood\n",
      "Blood Pressure Panel\n",
      "DXA Femur [T-score] Bone density\n",
      "procedure:\n",
      "MDC_ECG_ELEC_POTL_I\n",
      "MDC_ECG_ELEC_POTL_II\n",
      "MDC_ECG_ELEC_POTL_III\n",
      "MDC_ECG_ELEC_POTL_AVR\n",
      "MDC_ECG_ELEC_POTL_AVL\n",
      "MDC_ECG_ELEC_POTL_AVF\n",
      "MDC_ECG_ELEC_POTL_V1\n",
      "MDC_ECG_ELEC_POTL_V2\n",
      "MDC_ECG_ELEC_POTL_V3\n",
      "MDC_ECG_ELEC_POTL_V4\n",
      "MDC_ECG_ELEC_POTL_V5\n",
      "MDC_ECG_ELEC_POTL_V6\n"
     ]
    }
   ],
   "source": [
    "// read FHIR Data from C:\\Project\\HAPI-fhir-Lab\\data\\Patient-pat-example.json\n",
    "String data = Files.readString(Paths.get(\"C:\\\\Project\\\\HAPI-fhir-Lab\\\\data\\\\Patient-pat-example.json\"));\n",
    "\n",
    "// serialize to Patient object\n",
    "Patient pat = ctx.newJsonParser().parseResource(Patient.class, data);\n",
    "\n",
    "// print Patient name\n",
    "System.out.println(pat.getName().get(0).getGivenAsSingleString());\n",
    "\n",
    "// read FHIR Data from C:\\Project\\HAPI-fhir-Lab\\data\\MI-TW_Track2_examples.json\n",
    "data = Files.readString(Paths.get(\"C:\\\\Project\\\\HAPI-fhir-Lab\\\\data\\\\MI-TW_Track2_examples.json\"));\n",
    "\n",
    "// serialize to Bundle object\n",
    "Bundle bundle = ctx.newJsonParser().parseResource(Bundle.class, data);\n",
    "\n",
    "// Read data from Bundle \n",
    "for (Bundle.BundleEntryComponent entry : bundle.getEntry()) {\n",
    "    if (entry.getResource().getResourceType().name().equals(\"Patient\")) {\n",
    "        Patient patient = (Patient) entry.getResource();\n",
    "        System.out.println(patient.getName().get(0).getText());\n",
    "    }\n",
    "    else if (entry.getResource().getResourceType().name().equals(\"Observation\")) {\n",
    "        Observation observation = (Observation) entry.getResource();\n",
    "        // if observation is not a procedure, print observation code \n",
    "        if(observation.getCategory().get(0).getCoding().get(0).getCode().equals(\"procedure\") == false){\n",
    "            System.out.println(observation.getCode().getText());\n",
    "        }\n",
    "        else{\n",
    "            // read data from component of Observation object\n",
    "            System.out.println(observation.getCategory().get(0).getCoding().get(0).getCode() + \":\");\n",
    "            for (Observation.ObservationComponentComponent component : observation.getComponent()) {\n",
    "                System.out.println(component.getCode().getCoding().get(0).getDisplay());\n",
    "            }\n",
    "        }\n",
    "    }\n",
    "}\n",
    "\n",
    "// Serialize to JSON\n",
    "//String json = ctx.newJsonParser().encodeResourceToString(observation);\n",
    "//print JSON in pretty format\n",
    "\n",
    "//System.out.println(ctx.newJsonParser().setPrettyPrint(true).encodeResourceToString(observation));\n",
    "\n",
    "\n",
    "\n"
   ]
  },
  {
   "cell_type": "code",
   "execution_count": null,
   "metadata": {
    "vscode": {
     "languageId": "java"
    }
   },
   "outputs": [],
   "source": []
  }
 ],
 "metadata": {
  "kernelspec": {
   "display_name": "Java",
   "language": "java",
   "name": "java"
  },
  "language_info": {
   "codemirror_mode": "java",
   "file_extension": ".jshell",
   "mimetype": "text/x-java-source",
   "name": "Java",
   "pygments_lexer": "java",
   "version": "17.0.9+11-LTS-201"
  }
 },
 "nbformat": 4,
 "nbformat_minor": 2
}
