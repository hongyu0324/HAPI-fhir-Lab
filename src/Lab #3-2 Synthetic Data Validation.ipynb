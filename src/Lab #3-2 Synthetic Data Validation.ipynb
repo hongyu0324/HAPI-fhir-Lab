{
 "cells": [
  {
   "cell_type": "code",
   "execution_count": 11,
   "metadata": {},
   "outputs": [],
   "source": [
    "%loadFromPOM pom.xml\n",
    "%classpath C:\\\\Project\\\\HAPI-fhir-Lab"
   ]
  },
  {
   "cell_type": "code",
   "execution_count": 10,
   "metadata": {},
   "outputs": [],
   "source": [
    "import ca.uhn.fhir.context.FhirContext;\n",
    "import ca.uhn.fhir.rest.client.api.*;\n",
    "import ca.uhn.fhir.rest.api.MethodOutcome;\n",
    "import ca.uhn.fhir.validation.*;\n",
    "import org.hl7.fhir.r4.model.*;\n",
    "import org.hl7.fhir.common.hapi.validation.validator.*;\n",
    "import org.hl7.fhir.common.hapi.validation.support.*;\n",
    "import ca.uhn.fhir.context.support.*;\n",
    "import java.nio.file.*;\n",
    "\n"
   ]
  },
  {
   "cell_type": "code",
   "execution_count": null,
   "metadata": {},
   "outputs": [],
   "source": [
    "FhirContext ctx = FhirContext.forR4();\n",
    "String serverBase = \"http://localhost:8080/fhir\";\n",
    "IGenericClient client = ctx.newRestfulGenericClient(serverBase);"
   ]
  },
  {
   "cell_type": "code",
   "execution_count": null,
   "metadata": {},
   "outputs": [],
   "source": [
    "// Create a validator and register it with the context\n",
    "FhirValidator validator = ctx.newValidator();\n",
    "\n",
    "// Create a validation module and register itwith the validator\n",
    "//IValidatorModule module = new FhirInstanceValidator(ctx);\n",
    "\n",
    "// Register the module with the validator\n",
    "//validator.registerValidatorModule(module);\n",
    "\n",
    "NpmPackageValidationSupport npmPackageSupport = new NpmPackageValidationSupport(ctx);\n",
    "npmPackageSupport.loadPackageFromClasspath(\"classpath:profiles/tw-core-ig-v0.1.1.tgz\");\n",
    "\n",
    "// Create a validation support chain\n",
    "ValidationSupportChain validationSupportChain = new ValidationSupportChain(\n",
    "    npmPackageSupport,\n",
    "    new DefaultProfileValidationSupport(ctx),\n",
    "    new InMemoryTerminologyServerValidationSupport(ctx),\n",
    "    new CommonCodeSystemsTerminologyService(ctx),\n",
    "    new SnapshotGeneratingValidationSupport(ctx));\n",
    "\n",
    "// Set the chain on the validator\n",
    "FhirInstanceValidator instanceValidator = new FhirInstanceValidator(validationSupportChain);\n",
    "validator.registerValidatorModule(instanceValidator);"
   ]
  },
  {
   "cell_type": "code",
   "execution_count": 21,
   "metadata": {},
   "outputs": [],
   "source": [
    "public void readAndValidateFhirResource(FhirContext ctx, FhirValidator validator, String filePath, Map<String, String> resourceProfiles, Map<String, Boolean> resourceValidated) {\n",
    "    try {\n",
    "        // Read FHIR data\n",
    "        String json = new String(Files.readAllBytes(Paths.get(filePath)));\n",
    "\n",
    "        // Parse JSON-encoded FHIR resource\n",
    "        Bundle bundle = ctx.newJsonParser().parseResource(Bundle.class, json);\n",
    "\n",
    "        // From Bundle, read data\n",
    "        ValidationResult result = null;\n",
    "        String resourceType = null;\n",
    "        List resourceTypes = new ArrayList();\n",
    "        for (Bundle.BundleEntryComponent entry : bundle.getEntry()) {\n",
    "            result = null;\n",
    "            resourceType = entry.getResource().getResourceType().name();\n",
    "\n",
    "            if (resourceProfiles.containsKey(resourceType)) {\n",
    "                DomainResource resource = (DomainResource) entry.getResource();\n",
    "                if (resourceValidated.get(resourceType) == false) {\n",
    "                    resourceValidated.put(resourceType, true);\n",
    "                    resource.getMeta().addProfile(resourceProfiles.get(resourceType));\n",
    "                    result = validator.validateWithResult(resource);\n",
    "                }\n",
    "            } else {\n",
    "                if (!resourceTypes.contains(resourceType)) {\n",
    "                    resourceTypes.add(resourceType);\n",
    "                    System.out.println(\"\\nTW Core IG尚未定義-\" + resourceType);\n",
    "                }\n",
    "            }\n",
    "\n",
    "            // Print the validation result\n",
    "            if (result != null) {\n",
    "                if (result.isSuccessful()) {\n",
    "                    System.out.println(\"\\nValidation passed for \" + resourceType);\n",
    "                } else {\n",
    "                    System.out.println(\"\\nValidation failed for\" + \" \" + resourceType);\n",
    "                    result.getMessages().forEach(msg -> System.out.println(msg.getLocationString() + \" \" + msg.getMessage()));\n",
    "                }\n",
    "            }\n",
    "        }\n",
    "    } catch (Exception e) {\n",
    "        e.printStackTrace();\n",
    "    }\n",
    "}"
   ]
  },
  {
   "cell_type": "code",
   "execution_count": 22,
   "metadata": {},
   "outputs": [
    {
     "name": "stdout",
     "output_type": "stream",
     "text": [
      "\n",
      "Validation failed for Patient\n",
      "Patient.extension[0] This element does not match any known slice defined in the profile https://twcore.mohw.gov.tw/ig/twcore/StructureDefinition/Patient-twcore\n",
      "Patient.extension[1] This element does not match any known slice defined in the profile https://twcore.mohw.gov.tw/ig/twcore/StructureDefinition/Patient-twcore\n",
      "Patient.extension[2] This element does not match any known slice defined in the profile https://twcore.mohw.gov.tw/ig/twcore/StructureDefinition/Patient-twcore\n",
      "Patient.extension[3] This element does not match any known slice defined in the profile https://twcore.mohw.gov.tw/ig/twcore/StructureDefinition/Patient-twcore\n",
      "Patient.identifier[0] This element does not match any known slice defined in the profile https://twcore.mohw.gov.tw/ig/twcore/StructureDefinition/Patient-twcore\n",
      "Patient.identifier[2] This element does not match any known slice defined in the profile https://twcore.mohw.gov.tw/ig/twcore/StructureDefinition/Patient-twcore\n",
      "Patient.identifier[3] This element does not match any known slice defined in the profile https://twcore.mohw.gov.tw/ig/twcore/StructureDefinition/Patient-twcore\n",
      "Patient.extension[2] Unknown extension http://synthetichealth.github.io/synthea/disability-adjusted-life-years\n",
      "Patient.extension[3] Unknown extension http://synthetichealth.github.io/synthea/quality-adjusted-life-years\n",
      "Patient.identifier[2].type None of the codings provided are in the value set 'IdentifierType' (http://hl7.org/fhir/ValueSet/identifier-type), and a coding should come from this value set unless it has no suitable code (note that the validator cannot judge what is suitable) (codes = http://terminology.hl7.org/CodeSystem/v2-0203#SS)\n",
      "Patient.identifier[4].system Value is 'http://standardhealthrecord.org/fhir/StructureDefinition/passportNumber' but must be 'http://www.boca.gov.tw/'\n",
      "Patient.address[0].extension[0] This element does not match any known slice defined in the profile https://twcore.mohw.gov.tw/ig/twcore/StructureDefinition/Address-twcore\n",
      "\n",
      "Validation passed for Encounter\n",
      "\n",
      "Validation failed for Condition\n",
      "Condition Condition.category: minimum required = 1, but only found 0 (from https://twcore.mohw.gov.tw/ig/twcore/StructureDefinition/Condition-twcore)\n",
      "Condition.code.coding[0] This element does not match any known slice defined in the profile https://twcore.mohw.gov.tw/ig/twcore/StructureDefinition/Condition-twcore\n",
      "\n",
      "TW Core IG尚未定義-Claim\n",
      "\n",
      "TW Core IG尚未定義-ExplanationOfBenefit\n",
      "\n",
      "TW Core IG尚未定義-Device\n",
      "\n",
      "TW Core IG尚未定義-CareTeam\n",
      "\n",
      "TW Core IG尚未定義-CarePlan\n",
      "\n",
      "Validation failed for MedicationRequest\n",
      "MedicationRequest.medication.ofType(CodeableConcept).coding[0] This element does not match any known slice defined in the profile https://twcore.mohw.gov.tw/ig/twcore/StructureDefinition/MedicationRequest-twcore\n",
      "MedicationRequest.medication.ofType(CodeableConcept) MedicationRequest.medication[x]:medicationCodeableConcept.coding:fda-medication-tw: minimum required = 1, but only found 0 (from https://twcore.mohw.gov.tw/ig/twcore/StructureDefinition/MedicationRequest-twcore)\n",
      "\n",
      "Validation passed for Observation\n",
      "\n",
      "Validation passed for Procedure\n",
      "\n",
      "TW Core IG尚未定義-Immunization\n",
      "\n",
      "Validation failed for DiagnosticReport\n",
      "DiagnosticReport.code.coding[0] The code provided (http://loinc.org#57698-3) is not in the value set https://twcore.mohw.gov.tw/ig/twcore/ValueSet/loinc-observation-code, and a code from this value set is required: Failed to expand ValueSet 'https://twcore.mohw.gov.tw/ig/twcore/ValueSet/loinc-observation-code' (in-memory). Could not validate code http://loinc.org#57698-3. Error was: HAPI-0702: Unable to expand ValueSet because CodeSystem could not be found: http://loinc.org\n",
      "\n",
      "\n",
      "合成資料沒有產生：Medication\n"
     ]
    }
   ],
   "source": [
    "Map<String, String> resourceProfiles = new HashMap<>();\n",
    "resourceProfiles.put(\"Patient\", \"https://twcore.mohw.gov.tw/ig/twcore/StructureDefinition/Patient-twcore\");\n",
    "resourceProfiles.put(\"Observation\", \"https://twcore.mohw.gov.tw/ig/twcore/StructureDefinition/Observation-vitalSigns-twcore\");\n",
    "resourceProfiles.put(\"MedicationRequest\", \"https://twcore.mohw.gov.tw/ig/twcore/StructureDefinition/MedicationRequest-twcore\");\n",
    "resourceProfiles.put(\"Medication\", \"https://twcore.mohw.gov.tw/ig/twcore/StructureDefinition/Medication-twcore\");\n",
    "resourceProfiles.put(\"Encounter\", \"https://twcore.mohw.gov.tw/ig/twcore/StructureDefinition/Encounter-twcore\");\n",
    "resourceProfiles.put(\"Condition\", \"https://twcore.mohw.gov.tw/ig/twcore/StructureDefinition/Condition-twcore\");\n",
    "resourceProfiles.put(\"DiagnosticReport\", \"https://twcore.mohw.gov.tw/ig/twcore/StructureDefinition/DiagnosticReport-twcore\");\n",
    "resourceProfiles.put(\"Procedure\", \"https://twcore.mohw.gov.tw/ig/twcore/StructureDefinition/Procedure-twcore\");\n",
    "\n",
    "// 資源類型和對應的 profile\n",
    "Map<String,Boolean> resourceValidated = new HashMap<>();\n",
    "resourceValidated.put(\"Patient\", false);\n",
    "resourceValidated.put(\"Observation\", false);\n",
    "resourceValidated.put(\"MedicationRequest\", false);\n",
    "resourceValidated.put(\"Medication\", false);\n",
    "resourceValidated.put(\"Encounter\", false);\n",
    "resourceValidated.put(\"Condition\", false);\n",
    "resourceValidated.put(\"DiagnosticReport\", false);\n",
    "resourceValidated.put(\"Procedure\", false);\n",
    "\n",
    "// call readAndValidateFhirResource\n",
    "readAndValidateFhirResource(ctx, validator, \"C:\\\\Project\\\\HAPI-fhir-Lab\\\\synthetic-data\\\\fhir\\\\Alejandro916_Espinoza81.json\", resourceProfiles, resourceValidated);\n",
    "\n",
    "resourceProfiles.forEach((key, value) -> {\n",
    "    if (resourceValidated.get(key) == false) {\n",
    "        System.out.println(\"\\n\\n合成資料沒有產生：\" + key);\n",
    "    }\n",
    "});"
   ]
  },
  {
   "cell_type": "code",
   "execution_count": 24,
   "metadata": {},
   "outputs": [
    {
     "name": "stdout",
     "output_type": "stream",
     "text": [
      "\n",
      "Validation failed for Organization\n",
      "Organization.extension[0] Unknown extension http://synthetichealth.github.io/synthea/utilization-encounters-extension\n",
      "Organization.extension[1] Unknown extension http://synthetichealth.github.io/synthea/utilization-procedures-extension\n",
      "Organization.extension[2] Unknown extension http://synthetichealth.github.io/synthea/utilization-labs-extension\n",
      "Organization.extension[3] Unknown extension http://synthetichealth.github.io/synthea/utilization-prescriptions-extension\n",
      "Organization.identifier[0].system Value is 'https://github.com/synthetichealth/synthea' but must be 'https://twcore.mohw.gov.tw/ig/twcore/CodeSystem/organization-identifier-tw'\n",
      "\n",
      "TW Core IG尚未定義-Location\n"
     ]
    }
   ],
   "source": [
    "Map<String, String> resourceProfiles = new HashMap<>();\n",
    "resourceProfiles.put(\"Organization\", \"https://twcore.mohw.gov.tw/ig/twcore/StructureDefinition/Organization-hosp-twcore\");\n",
    "\n",
    "// 資源類型和對應的 profile\n",
    "Map<String,Boolean> resourceValidated = new HashMap<>();\n",
    "resourceValidated.put(\"Organization\", false);\n",
    "\n",
    "// call readAndValidateFhirResource\n",
    "readAndValidateFhirResource(ctx, validator, \"C:\\\\Project\\\\HAPI-fhir-Lab\\\\synthetic-data\\\\fhir\\\\hospitalInformation.json\", resourceProfiles, resourceValidated);"
   ]
  },
  {
   "cell_type": "code",
   "execution_count": 25,
   "metadata": {},
   "outputs": [
    {
     "name": "stdout",
     "output_type": "stream",
     "text": [
      "\n",
      "Validation passed for Practitioner\n"
     ]
    }
   ],
   "source": [
    "Map<String, String> resourceProfiles = new HashMap<>();\n",
    "resourceProfiles.put(\"Practitioner\", \"https://twcore.mohw.gov.tw/ig/twcore/StructureDefinition/Practitioner-twcore\");\n",
    "\n",
    "// 資源類型和對應的 profile\n",
    "Map<String,Boolean> resourceValidated = new HashMap<>();\n",
    "resourceValidated.put(\"Practitioner\", false);\n",
    "\n",
    "// call readAndValidateFhirResource\n",
    "readAndValidateFhirResource(ctx, validator, \"C:\\\\Project\\\\HAPI-fhir-Lab\\\\synthetic-data\\\\fhir\\\\practitionerInformation.json\", resourceProfiles, resourceValidated);\n"
   ]
  }
 ],
 "metadata": {
  "kernelspec": {
   "display_name": "Java",
   "language": "java",
   "name": "java"
  },
  "language_info": {
   "codemirror_mode": "java",
   "file_extension": ".jshell",
   "mimetype": "text/x-java-source",
   "name": "java",
   "pygments_lexer": "java",
   "version": "17.0.9+11-LTS-201"
  }
 },
 "nbformat": 4,
 "nbformat_minor": 2
}
