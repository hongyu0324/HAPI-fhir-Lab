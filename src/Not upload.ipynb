{
 "cells": [
  {
   "cell_type": "code",
   "execution_count": null,
   "metadata": {},
   "outputs": [],
   "source": [
    "import java.nio.file.Files;\n",
    "import java.nio.file.Paths;\n",
    "import java.util.Base64;\n",
    "\n",
    "// Read the file into a byte array\n",
    "byte[] fileBytes = Files.readAllBytes(Paths.get(\"c:\\\\Project\\\\ips-ig-v1.1.0.tgz\"));\n",
    "\n",
    "// Encode the byte array into a Base64 string\n",
    "String base64String = Base64.getEncoder().encodeToString(fileBytes);\n",
    "\n",
    "// Print the Base64 string\n",
    "System.out.println(base64String);"
   ]
  }
 ],
 "metadata": {
  "kernelspec": {
   "display_name": "Java",
   "language": "java",
   "name": "java"
  },
  "language_info": {
   "codemirror_mode": "java",
   "file_extension": ".jshell",
   "mimetype": "text/x-java-source",
   "name": "java",
   "pygments_lexer": "java",
   "version": "17.0.9+11-LTS-201"
  }
 },
 "nbformat": 4,
 "nbformat_minor": 2
}
