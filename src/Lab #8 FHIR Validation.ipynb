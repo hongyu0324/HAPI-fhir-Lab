{
 "cells": [
  {
   "cell_type": "code",
   "execution_count": 9,
   "metadata": {
    "vscode": {
     "languageId": "java"
    }
   },
   "outputs": [],
   "source": [
    "%loadFromPOM pom.xml"
   ]
  },
  {
   "cell_type": "code",
   "execution_count": 39,
   "metadata": {
    "vscode": {
     "languageId": "java"
    }
   },
   "outputs": [],
   "source": [
    "import ca.uhn.fhir.context.FhirContext;\n",
    "import ca.uhn.fhir.rest.client.api.*;\n",
    "import ca.uhn.fhir.rest.api.MethodOutcome;\n",
    "import ca.uhn.fhir.validation.*;\n",
    "import org.hl7.fhir.r4.model.*;\n",
    "import org.hl7.fhir.common.hapi.validation.validator.*;\n"
   ]
  },
  {
   "cell_type": "code",
   "execution_count": 40,
   "metadata": {
    "vscode": {
     "languageId": "java"
    }
   },
   "outputs": [],
   "source": [
    "FhirContext ctx = FhirContext.forR4();\n",
    "String serverBase = \"http://localhost:8080/fhir\";\n",
    "IGenericClient client = ctx.newRestfulGenericClient(serverBase);"
   ]
  },
  {
   "cell_type": "code",
   "execution_count": 43,
   "metadata": {
    "vscode": {
     "languageId": "java"
    }
   },
   "outputs": [
    {
     "name": "stdout",
     "output_type": "stream",
     "text": [
      "true\n"
     ]
    }
   ],
   "source": [
    "// FHIR validation requires a resource to have an id\n",
    "// so we will create a new Observation resource with an id\n",
    "// and then validate it\n",
    "Observation obs = new Observation();\n",
    "obs.setStatus(Observation.ObservationStatus.FINAL);\n",
    "obs.getCode().addCoding()\n",
    "    .setSystem(\"http://loinc.org\")\n",
    "    .setCode(\"29463-7\")\n",
    "    .setDisplay(\"Body Weight\");\n",
    "obs.setValue(new Quantity()\n",
    "    .setValue(185)\n",
    "    .setUnit(\"lbs\")\n",
    "    .setSystem(\"http://unitsofmeasure.org\")\n",
    "    .setCode(\"[lb_av]\"));   \n",
    "\n",
    "// Create a validator and register it with the context\n",
    "FhirValidator validator = ctx.newValidator();\n",
    "\n",
    "\n",
    "// Create a validation module and register itwith the validator\n",
    "IValidatorModule module = new FhirInstanceValidator(ctx);\n",
    "\n",
    "// Register the module with the validator\n",
    "validator.registerValidatorModule(module);\n",
    "\n",
    "// Validate the resource\n",
    "ValidationResult result = validator.validateWithResult(obs);\n",
    "\n",
    "// Print the validation result\n",
    "System.out.println(result.isSuccessful());\n"
   ]
  }
 ],
 "metadata": {
  "kernelspec": {
   "display_name": "Java",
   "language": "java",
   "name": "java"
  },
  "language_info": {
   "codemirror_mode": "java",
   "file_extension": ".jshell",
   "mimetype": "text/x-java-source",
   "name": "Java",
   "pygments_lexer": "java",
   "version": "17.0.9+11-LTS-201"
  }
 },
 "nbformat": 4,
 "nbformat_minor": 2
}
