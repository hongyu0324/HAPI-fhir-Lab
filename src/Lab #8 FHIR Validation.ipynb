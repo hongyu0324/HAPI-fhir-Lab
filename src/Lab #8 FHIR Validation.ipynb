{
 "cells": [
  {
   "cell_type": "code",
   "execution_count": 1,
   "metadata": {
    "vscode": {
     "languageId": "java"
    }
   },
   "outputs": [],
   "source": [
    "%loadFromPOM pom.xml\n",
    "%classpath C:\\\\Project\\\\HAPI-fhir-Lab"
   ]
  },
  {
   "cell_type": "code",
   "execution_count": 2,
   "metadata": {
    "vscode": {
     "languageId": "java"
    }
   },
   "outputs": [],
   "source": [
    "import ca.uhn.fhir.context.FhirContext;\n",
    "import ca.uhn.fhir.rest.client.api.*;\n",
    "import ca.uhn.fhir.rest.api.MethodOutcome;\n",
    "import ca.uhn.fhir.validation.*;\n",
    "import org.hl7.fhir.r4.model.*;\n",
    "import org.hl7.fhir.common.hapi.validation.validator.*;\n",
    "import org.hl7.fhir.common.hapi.validation.support.*;\n",
    "import ca.uhn.fhir.context.support.*;\n",
    "import java.nio.file.*;\n"
   ]
  },
  {
   "cell_type": "code",
   "execution_count": 3,
   "metadata": {
    "vscode": {
     "languageId": "java"
    }
   },
   "outputs": [],
   "source": [
    "FhirContext ctx = FhirContext.forR4();\n",
    "String serverBase = \"http://localhost:8080/fhir\";\n",
    "IGenericClient client = ctx.newRestfulGenericClient(serverBase);"
   ]
  },
  {
   "cell_type": "code",
   "execution_count": 4,
   "metadata": {
    "vscode": {
     "languageId": "java"
    }
   },
   "outputs": [
    {
     "name": "stdout",
     "output_type": "stream",
     "text": [
      "Validation passed\n"
     ]
    }
   ],
   "source": [
    "// read FHIR Data from C:\\Project\\HAPI-fhir-Lab\\data\\Patient-pat-example.json\n",
    "String data = Files.readString(Paths.get(\"C:\\\\Project\\\\HAPI-fhir-Lab\\\\data\\\\Patient-pat-example.json\"));\n",
    "\n",
    "// serialize to Patient object\n",
    "Patient pat = ctx.newJsonParser().parseResource(Patient.class, data);\n",
    "\n",
    "// Create a validator and register it with the context\n",
    "FhirValidator validator = ctx.newValidator();\n",
    "\n",
    "// Create a validation module and register itwith the validator\n",
    "//IValidatorModule module = new FhirInstanceValidator(ctx);\n",
    "\n",
    "// Register the module with the validator\n",
    "//validator.registerValidatorModule(module);\n",
    "\n",
    "NpmPackageValidationSupport npmPackageSupport = new NpmPackageValidationSupport(ctx);\n",
    "npmPackageSupport.loadPackageFromClasspath(\"classpath:profiles\\\\package.tgz\");\n",
    "\n",
    "// Create a validation support chain\n",
    "ValidationSupportChain validationSupportChain = new ValidationSupportChain(\n",
    "    npmPackageSupport,\n",
    "    new DefaultProfileValidationSupport(ctx),\n",
    "    new InMemoryTerminologyServerValidationSupport(ctx),\n",
    "    new CommonCodeSystemsTerminologyService(ctx),\n",
    "    new SnapshotGeneratingValidationSupport(ctx));\n",
    "\n",
    "// Set the chain on the validator\n",
    "FhirInstanceValidator instanceValidator = new FhirInstanceValidator(validationSupportChain);\n",
    "validator.registerValidatorModule(instanceValidator);\n",
    "\n",
    "// Validate the resource\n",
    "ValidationResult result = validator.validateWithResult(pat);\n",
    "\n",
    "// Print the validation result\n",
    "if (result.isSuccessful()) {\n",
    "    System.out.println(\"Validation passed\");\n",
    "} else {\n",
    "    System.out.println(\"Validation failed\");\n",
    "    result.getMessages().forEach(msg -> System.out.println(msg.getLocationString() + \" \" + msg.getMessage()));\n",
    "}\n"
   ]
  }
 ],
 "metadata": {
  "kernelspec": {
   "display_name": "Java",
   "language": "java",
   "name": "java"
  },
  "language_info": {
   "codemirror_mode": "java",
   "file_extension": ".jshell",
   "mimetype": "text/x-java-source",
   "name": "Java",
   "pygments_lexer": "java",
   "version": "17.0.9+11-LTS-201"
  }
 },
 "nbformat": 4,
 "nbformat_minor": 2
}
