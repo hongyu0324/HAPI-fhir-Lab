{
 "cells": [
  {
   "cell_type": "code",
   "execution_count": 2,
   "metadata": {
    "vscode": {
     "languageId": "java"
    }
   },
   "outputs": [],
   "source": [
    "%loadFromPOM pom.xml"
   ]
  },
  {
   "cell_type": "code",
   "execution_count": 3,
   "metadata": {
    "vscode": {
     "languageId": "java"
    }
   },
   "outputs": [],
   "source": [
    "import ca.uhn.fhir.context.FhirContext;\n",
    "import ca.uhn.fhir.rest.client.api.*;\n",
    "import ca.uhn.fhir.rest.api.MethodOutcome;\n",
    "import ca.uhn.fhir.validation.*;\n",
    "import org.hl7.fhir.r4.model.*;\n",
    "import org.hl7.fhir.common.hapi.validation.validator.*;\n",
    "import org.hl7.fhir.common.hapi.validation.support.*;\n",
    "import ca.uhn.fhir.context.support.*;\n",
    "import java.nio.file.*;\n"
   ]
  },
  {
   "cell_type": "code",
   "execution_count": 4,
   "metadata": {
    "vscode": {
     "languageId": "java"
    }
   },
   "outputs": [],
   "source": [
    "FhirContext ctx = FhirContext.forR4();\n",
    "String serverBase = \"http://localhost:8080/fhir\";\n",
    "IGenericClient client = ctx.newRestfulGenericClient(serverBase);"
   ]
  },
  {
   "cell_type": "code",
   "execution_count": 7,
   "metadata": {
    "vscode": {
     "languageId": "java"
    }
   },
   "outputs": [
    {
     "name": "stdout",
     "output_type": "stream",
     "text": [
      "Validation failed\n",
      "Patient.extension[0] Unknown extension https://twcore.mohw.gov.tw/ig/twcore/StructureDefinition/person-age\n",
      "Patient.identifier[0].type None of the codings provided are in the value set 'IdentifierType' (http://hl7.org/fhir/ValueSet/identifier-type), and a coding should come from this value set unless it has no suitable code (note that the validator cannot judge what is suitable) (codes = http://terminology.hl7.org/CodeSystem/v2-0203#NNxxx)\n",
      "Patient.identifier[0].type.coding[0].code.extension[0] Unknown extension https://twcore.mohw.gov.tw/ig/twcore/StructureDefinition/identifier-suffix\n",
      "Patient.address[0].extension[0] Unknown extension https://twcore.mohw.gov.tw/ig/twcore/StructureDefinition/tw-section\n",
      "Patient.address[0].extension[1] Unknown extension https://twcore.mohw.gov.tw/ig/twcore/StructureDefinition/tw-number\n",
      "Patient.address[0].extension[2] Unknown extension https://twcore.mohw.gov.tw/ig/twcore/StructureDefinition/tw-village\n",
      "Patient.address[0].extension[3] Unknown extension https://twcore.mohw.gov.tw/ig/twcore/StructureDefinition/tw-neighborhood\n",
      "Patient.address[0].extension[4] Unknown extension https://twcore.mohw.gov.tw/ig/twcore/StructureDefinition/tw-lane\n",
      "Patient.address[0].extension[5] Unknown extension https://twcore.mohw.gov.tw/ig/twcore/StructureDefinition/tw-alley\n",
      "Patient.address[0].extension[6] Unknown extension https://twcore.mohw.gov.tw/ig/twcore/StructureDefinition/tw-floor\n",
      "Patient.address[0].extension[7] Unknown extension https://twcore.mohw.gov.tw/ig/twcore/StructureDefinition/tw-room\n",
      "Patient.address[0].postalCode.extension[0] Unknown extension https://twcore.mohw.gov.tw/ig/twcore/StructureDefinition/tw-postal-code\n",
      "Patient.contact[0].relationship[0] None of the codings provided are in the value set 'Patient Contact Relationship ' (http://hl7.org/fhir/ValueSet/patient-contactrelationship), and a coding should come from this value set unless it has no suitable code (note that the validator cannot judge what is suitable) (codes = http://terminology.hl7.org/CodeSystem/v3-RoleCode#FTH)\n",
      "Patient.meta.profile[0] Profile reference 'https://twcore.mohw.gov.tw/ig/twcore/StructureDefinition/Patient-twcore' has not been checked because it is unknown\n"
     ]
    }
   ],
   "source": [
    "// read FHIR Data from C:\\Project\\HAPI-fhir-Lab\\data\\Patient-pat-example.json\n",
    "String data = Files.readString(Paths.get(\"C:\\\\Project\\\\HAPI-fhir-Lab\\\\data\\\\Patient-pat-example.json\"));\n",
    "\n",
    "// serialize to Patient object\n",
    "Patient pat = ctx.newJsonParser().parseResource(Patient.class, data);\n",
    "\n",
    "// Create a validator and register it with the context\n",
    "FhirValidator validator = ctx.newValidator();\n",
    "\n",
    "// Create a validation module and register itwith the validator\n",
    "//IValidatorModule module = new FhirInstanceValidator(ctx);\n",
    "\n",
    "// Register the module with the validator\n",
    "//validator.registerValidatorModule(module);\n",
    "\n",
    "//NpmPackageValidationSupport npmPackageSupport = new NpmPackageValidationSupport(ctx);\n",
    "//npmPackageSupport.loadPackageFromClasspath(\"classpath:\\\\data\\\\package.tgz\");\n",
    "\n",
    "// Create a validation support chain\n",
    "ValidationSupportChain validationSupportChain = new ValidationSupportChain(\n",
    "    // npmPackageSupport,\n",
    "    new DefaultProfileValidationSupport(ctx),\n",
    "    new InMemoryTerminologyServerValidationSupport(ctx),\n",
    "    new CommonCodeSystemsTerminologyService(ctx),\n",
    "    new SnapshotGeneratingValidationSupport(ctx));\n",
    "\n",
    "// Set the chain on the validator\n",
    "FhirInstanceValidator instanceValidator = new FhirInstanceValidator(validationSupportChain);\n",
    "validator.registerValidatorModule(instanceValidator);\n",
    "\n",
    "// Validate the resource\n",
    "ValidationResult result = validator.validateWithResult(pat);\n",
    "\n",
    "// Print the validation result\n",
    "if (result.isSuccessful()) {\n",
    "    System.out.println(\"Validation passed\");\n",
    "} else {\n",
    "    System.out.println(\"Validation failed\");\n",
    "    result.getMessages().forEach(msg -> System.out.println(msg.getLocationString() + \" \" + msg.getMessage()));\n",
    "}\n"
   ]
  }
 ],
 "metadata": {
  "kernelspec": {
   "display_name": "Python 3",
   "language": "python",
   "name": "python3"
  },
  "language_info": {
   "codemirror_mode": "java",
   "file_extension": ".jshell",
   "mimetype": "text/x-java-source",
   "name": "python",
   "pygments_lexer": "java",
   "version": "3.12.0"
  }
 },
 "nbformat": 4,
 "nbformat_minor": 2
}
