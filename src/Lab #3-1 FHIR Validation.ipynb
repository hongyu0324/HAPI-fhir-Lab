{
 "cells": [
  {
   "cell_type": "code",
   "execution_count": 1,
   "metadata": {},
   "outputs": [],
   "source": [
    "%loadFromPOM pom.xml\n",
    "%classpath C:\\\\Project\\\\HAPI-fhir-Lab"
   ]
  },
  {
   "cell_type": "code",
   "execution_count": 2,
   "metadata": {},
   "outputs": [],
   "source": [
    "import ca.uhn.fhir.context.FhirContext;\n",
    "import ca.uhn.fhir.rest.client.api.*;\n",
    "import ca.uhn.fhir.rest.api.MethodOutcome;\n",
    "import ca.uhn.fhir.validation.*;\n",
    "import org.hl7.fhir.r4.model.*;\n",
    "import org.hl7.fhir.common.hapi.validation.validator.*;\n",
    "import org.hl7.fhir.common.hapi.validation.support.*;\n",
    "import ca.uhn.fhir.context.support.*;\n",
    "import java.nio.file.*;\n"
   ]
  },
  {
   "cell_type": "code",
   "execution_count": 3,
   "metadata": {},
   "outputs": [],
   "source": [
    "FhirContext ctx = FhirContext.forR4();\n",
    "String serverBase = \"http://localhost:8080/fhir\";\n",
    "IGenericClient client = ctx.newRestfulGenericClient(serverBase);"
   ]
  },
  {
   "cell_type": "code",
   "execution_count": 5,
   "metadata": {},
   "outputs": [
    {
     "name": "stdout",
     "output_type": "stream",
     "text": [
      "Validation failed\n",
      "Patient Patient.gender: minimum required = 1, but only found 0 (from https://twcore.mohw.gov.tw/ig/twcore/StructureDefinition/Patient-twcore)\n"
     ]
    }
   ],
   "source": [
    "// Create a validator and register it with the context\n",
    "FhirValidator validator = ctx.newValidator();\n",
    "\n",
    "// Create a validation module and register itwith the validator\n",
    "//IValidatorModule module = new FhirInstanceValidator(ctx);\n",
    "\n",
    "// Register the module with the validator\n",
    "//validator.registerValidatorModule(module);\n",
    "\n",
    "NpmPackageValidationSupport npmPackageSupport = new NpmPackageValidationSupport(ctx);\n",
    "npmPackageSupport.loadPackageFromClasspath(\"classpath:profiles/tw-core-ig-v0.1.1.tgz\");\n",
    "\n",
    "// Create a validation support chain\n",
    "ValidationSupportChain validationSupportChain = new ValidationSupportChain(\n",
    "    npmPackageSupport,\n",
    "    new DefaultProfileValidationSupport(ctx),\n",
    "    new InMemoryTerminologyServerValidationSupport(ctx),\n",
    "    new CommonCodeSystemsTerminologyService(ctx),\n",
    "    new SnapshotGeneratingValidationSupport(ctx));\n",
    "\n",
    "// Set the chain on the validator\n",
    "FhirInstanceValidator instanceValidator = new FhirInstanceValidator(validationSupportChain);\n",
    "validator.registerValidatorModule(instanceValidator);\n",
    "\n",
    "// read FHIR Data from C:\\Project\\HAPI-fhir-Lab\\data\\Patient-pat-example.json\n",
    "String data = Files.readString(Paths.get(\"C:/Project/HAPI-fhir-Lab/data/Patient-pat-example.json\"));\n",
    "\n",
    "// serialize to Patient object\n",
    "Patient pat = ctx.newJsonParser().parseResource(Patient.class, data);\n",
    "\n",
    "// Validate the resource\n",
    "ValidationResult result = validator.validateWithResult(pat);\n",
    "\n",
    "// Print the validation result\n",
    "if (result.isSuccessful()) {\n",
    "    System.out.println(\"Validation passed\");\n",
    "} else {\n",
    "    System.out.println(\"Validation failed\");\n",
    "    result.getMessages().forEach(msg -> System.out.println(msg.getLocationString() + \" \" + msg.getMessage()));\n",
    "}\n"
   ]
  },
  {
   "cell_type": "code",
   "execution_count": 6,
   "metadata": {},
   "outputs": [
    {
     "name": "stdout",
     "output_type": "stream",
     "text": [
      "Validation failed for Patient\n",
      "Patient.extension[0] This element does not match any known slice defined in the profile https://twcore.mohw.gov.tw/ig/twcore/StructureDefinition/Patient-twcore\n",
      "Patient.extension[1] This element does not match any known slice defined in the profile https://twcore.mohw.gov.tw/ig/twcore/StructureDefinition/Patient-twcore\n",
      "Patient.extension[2] This element does not match any known slice defined in the profile https://twcore.mohw.gov.tw/ig/twcore/StructureDefinition/Patient-twcore\n",
      "Patient.extension[3] This element does not match any known slice defined in the profile https://twcore.mohw.gov.tw/ig/twcore/StructureDefinition/Patient-twcore\n",
      "Patient.identifier[0] This element does not match any known slice defined in the profile https://twcore.mohw.gov.tw/ig/twcore/StructureDefinition/Patient-twcore\n",
      "Patient.identifier[2] This element does not match any known slice defined in the profile https://twcore.mohw.gov.tw/ig/twcore/StructureDefinition/Patient-twcore\n",
      "Patient.identifier[3] This element does not match any known slice defined in the profile https://twcore.mohw.gov.tw/ig/twcore/StructureDefinition/Patient-twcore\n",
      "Patient.extension[2] Unknown extension http://synthetichealth.github.io/synthea/disability-adjusted-life-years\n",
      "Patient.extension[3] Unknown extension http://synthetichealth.github.io/synthea/quality-adjusted-life-years\n",
      "Patient.identifier[2].type None of the codings provided are in the value set 'IdentifierType' (http://hl7.org/fhir/ValueSet/identifier-type), and a coding should come from this value set unless it has no suitable code (note that the validator cannot judge what is suitable) (codes = http://terminology.hl7.org/CodeSystem/v2-0203#SS)\n",
      "Patient.identifier[4].system Value is 'http://standardhealthrecord.org/fhir/StructureDefinition/passportNumber' but must be 'http://www.boca.gov.tw/'\n",
      "Patient.address[0].extension[0] This element does not match any known slice defined in the profile https://twcore.mohw.gov.tw/ig/twcore/StructureDefinition/Address-twcore\n"
     ]
    }
   ],
   "source": [
    "// read FHIR Data from C:\\Project\\HAPI-fhir-Lab\\synthetic-data\\fhir\\Alejandro916_Espinoza81.json\n",
    "String json = new String(Files.readAllBytes(Paths.get(\"C:\\\\Project\\\\HAPI-fhir-Lab\\\\synthetic-data\\\\fhir\\\\Alejandro916_Espinoza81.json\")));\n",
    "\n",
    "// Parse the JSON encoded FHIR resource with Bundle class\n",
    "Bundle bundle = ctx.newJsonParser().parseResource(Bundle.class, json);\n",
    "\n",
    "// Read Data from Bundle\n",
    "ValidationResult result = null;\n",
    "String resourceType = null;\n",
    "for (Bundle.BundleEntryComponent entry : bundle.getEntry()) {\n",
    "\n",
    "    if (entry.getResource().getResourceType().name().equals(\"Patient\")) {\n",
    "        Patient patient = (Patient) entry.getResource();\n",
    "       // Validate the resource\n",
    "        result = validator.validateWithResult(patient);\n",
    "        resourceType = \"Patient\";\n",
    "    }\n",
    "    //else if (entry.getResource().getResourceType().name().equals(\"Observation\")) {\n",
    "    //    Observation observation = (Observation) entry.getResource();\n",
    "    //    result = validator.validateWithResult(observation);\n",
    "    //    resourceType = \"Observation\";\n",
    "    //}\n",
    "    //else if (entry.getResource().getResourceType().name().equals(\"Encounter\")) {\n",
    "    //    Encounter encounter = (Encounter) entry.getResource();\n",
    "    //    result = validator.validateWithResult(encounter);\n",
    "    //    resourceType = \"Encounter\";\n",
    "    //}\n",
    "    else{\n",
    "        result = null;\n",
    "    }\n",
    "\n",
    "    // Print the validation result\n",
    "    if (result != null) {\n",
    "        if (result.isSuccessful()) {\n",
    "            System.out.println(\"Validation passed for\" + \" \" + resourceType);\n",
    "        } else {\n",
    "            System.out.println(\"Validation failed for\" + \" \" + resourceType);\n",
    "            result.getMessages().forEach(msg -> System.out.println(msg.getLocationString() + \" \" + msg.getMessage()));  \n",
    "        }\n",
    "    }\n",
    "}"
   ]
  }
 ],
 "metadata": {
  "kernelspec": {
   "display_name": "Java",
   "language": "java",
   "name": "java"
  },
  "language_info": {
   "codemirror_mode": "java",
   "file_extension": ".jshell",
   "mimetype": "text/x-java-source",
   "name": "java",
   "pygments_lexer": "java",
   "version": "17.0.9+11-LTS-201"
  }
 },
 "nbformat": 4,
 "nbformat_minor": 2
}
