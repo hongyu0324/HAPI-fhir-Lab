{
 "cells": [
  {
   "cell_type": "code",
   "execution_count": null,
   "metadata": {},
   "outputs": [],
   "source": [
    "%loadFromPOM pom.xml"
   ]
  },
  {
   "cell_type": "code",
   "execution_count": null,
   "metadata": {},
   "outputs": [],
   "source": [
    "import ca.uhn.fhir.context.FhirContext;\n",
    "import ca.uhn.fhir.rest.client.api.*;\n",
    "import ca.uhn.fhir.rest.api.MethodOutcome;\n",
    "import org.hl7.fhir.r4.model.*;"
   ]
  },
  {
   "cell_type": "code",
   "execution_count": null,
   "metadata": {},
   "outputs": [],
   "source": [
    "FhirContext ctx = FhirContext.forR4();\n",
    "String serverBase = \"http://localhost:8080/fhir\";\n",
    "IGenericClient client = ctx.newRestfulGenericClient(serverBase);"
   ]
  },
  {
   "cell_type": "code",
   "execution_count": null,
   "metadata": {},
   "outputs": [],
   "source": [
    "// Find a patient whose given name is 大明 and family name is 陳\n",
    "Bundle results = client\n",
    "    .search()\n",
    "    .forResource(Patient.class)\n",
    "    .where(Patient.GIVEN.matches().value(\"大明\"))\n",
    "    .and(Patient.FAMILY.matches().value(\"陳\"))\n",
    "    .returnBundle(Bundle.class)\n",
    "    .execute();\n",
    "\n",
    "// Get the first patient from the bundle\n",
    "Patient patient = (Patient) results.getEntry().get(0).getResource();"
   ]
  },
  {
   "cell_type": "code",
   "execution_count": null,
   "metadata": {},
   "outputs": [],
   "source": [
    "// find the practitioner whose family name is  Kelly Smith\n",
    "Bundle results = client\n",
    "    .search()\n",
    "    .forResource(Practitioner.class)\n",
    "    .where(Practitioner.NAME.matches().value(\"Kelly Smith\"))\n",
    "    .returnBundle(Bundle.class)\n",
    "    .execute();\n",
    "\n",
    "// Get the first practitioner from the bundle\n",
    "Practitioner practitioner = (Practitioner) results.getEntry().get(0).getResource();\n"
   ]
  },
  {
   "cell_type": "code",
   "execution_count": null,
   "metadata": {},
   "outputs": [],
   "source": [
    "// search for the patient's appointments\n",
    "results = client\n",
    "    .search()\n",
    "    .forResource(Appointment.class)\n",
    "    .where(Appointment.PATIENT.hasId(patient.getIdElement().getIdPart()))\n",
    "    .returnBundle(Bundle.class)\n",
    "    .execute();\n",
    "\n",
    "// Get the first appointment from the bundle\n",
    "Appointment appointment = (Appointment) results.getEntry().get(0).getResource();\n"
   ]
  },
  {
   "cell_type": "code",
   "execution_count": null,
   "metadata": {},
   "outputs": [],
   "source": [
    "// create Condition for hypertension. Hypertension is encoded as 38341003 in http://snomed.info/sct system. with display text \"Hypertension\"\n",
    "Condition condition = new Condition();\n",
    "condition.setSubject(new Reference(\"Patient/\" + patient.getIdElement().getIdPart()));\n",
    "condition.setCode(new CodeableConcept().addCoding(new Coding(\"http://snomed.info/sct\", \"38341003\", \"Hypertension\")));\n",
    "\n",
    "//save the condition to the server\n",
    "MethodOutcome outcome = client.create().resource(condition).execute();\n",
    "\n",
    "// get the id of the condition\n",
    "String conditionId = outcome.getId().getIdPart();\n"
   ]
  },
  {
   "cell_type": "code",
   "execution_count": null,
   "metadata": {},
   "outputs": [],
   "source": [
    "// create an encounter\n",
    "Encounter encounter = new Encounter();\n",
    "encounter.setSubject(new Reference(\"Patient/\" + patient.getIdElement().getIdPart()));\n",
    "encounter.addDiagnosis(new Encounter.DiagnosisComponent(new Reference(\"Condition/\" + conditionId)));\n",
    "encounter.addAppointment(new Reference(\"Appointment/\" + appointment.getIdElement().getIdPart()));\n",
    "encounter.setStatus(Encounter.EncounterStatus.INPROGRESS);\n",
    "\n",
    "// set participant type to \"primary performer\"\n",
    "Encounter.EncounterParticipantComponent participant = new Encounter.EncounterParticipantComponent();\n",
    "participant.addType().addCoding().setSystem(\"http://terminology.hl7.org/CodeSystem/v3-ParticipationType\").setCode(\"PPRF\");\n",
    "participant.setIndividual(new Reference(\"Practitioner/\" + practitioner.getIdElement().getIdPart()));\n",
    "encounter.addParticipant(participant);\n",
    "\n",
    "// create the encounter on the server\n",
    "MethodOutcome outcome = client.create().resource(encounter).execute();\n",
    "\n",
    "// print the outcome\n",
    "System.out.println(ctx.newJsonParser().setPrettyPrint(true).encodeResourceToString(outcome.getResource()));\n",
    "\n",
    "// get the id of the encounter\n",
    "String encounterId = outcome.getId().getIdPart();"
   ]
  },
  {
   "cell_type": "code",
   "execution_count": null,
   "metadata": {},
   "outputs": [],
   "source": [
    "// get the encounter from the server\n",
    "Encounter encounter = client.read().resource(Encounter.class).withId(outcome.getId().getIdPart()).execute();\n",
    "\n",
    "//create a new observation\n",
    "// temperature 96.8 F\n",
    "// blood pressure 130/80\n",
    "Observation observation = new Observation();\n",
    "observation.setStatus(Observation.ObservationStatus.FINAL);\n",
    "observation.setSubject(new Reference(\"Patient/\" + patient.getIdElement().getIdPart()));\n",
    "observation.addCategory().addCoding().setSystem(\"http://terminology.hl7.org/CodeSystem/observation-category\").setCode(\"vital-signs\");\n",
    "observation.setCode(new CodeableConcept().addCoding(new Coding(\"http://loinc.org\", \"85354-9\", \"Vital Signs\")));\n",
    "observation.addComponent(new Observation.ObservationComponentComponent()\n",
    "                                        .setCode(new CodeableConcept()\n",
    "                                        .addCoding(new Coding(\"http://loinc.org\", \"8310-5\", \"Body temperature\")))\n",
    "                                        .setValue(new Quantity().setValue(96.8).setUnit(\"F\")));\n",
    "observation.addComponent(new Observation.ObservationComponentComponent()\n",
    "                                        .setCode(new CodeableConcept()\n",
    "                                        .addCoding(new Coding(\"http://loinc.org\", \"8480-6\", \"Systolic blood pressure\")))\n",
    "                                        .setValue(new Quantity().setValue(130).setUnit(\"mmHg\")));\n",
    "observation.addComponent(new Observation.ObservationComponentComponent()\n",
    "                                        .setCode(new CodeableConcept()\n",
    "                                        .addCoding(new Coding(\"http://loinc.org\", \"8462-4\", \"Diastolic blood pressure\")))\n",
    "                                        .setValue(new Quantity().setValue(80).setUnit(\"mmHg\")));\n",
    "\n",
    "observation.setEncounter(new Reference(\"Encounter/\" + encounterId));\n",
    "observation.setEffective(new DateTimeType(\"2020-01-01T00:00:00-05:00\"));\n",
    "\n",
    "//print the observation\n",
    "System.out.println(ctx.newJsonParser().setPrettyPrint(true).encodeResourceToString(observation));   \n"
   ]
  }
 ],
 "metadata": {
  "kernelspec": {
   "display_name": "Java",
   "language": "java",
   "name": "java"
  },
  "language_info": {
   "codemirror_mode": "java",
   "file_extension": ".jshell",
   "mimetype": "text/x-java-source",
   "name": "java",
   "pygments_lexer": "java",
   "version": "17.0.9+11-LTS-201"
  }
 },
 "nbformat": 4,
 "nbformat_minor": 2
}
