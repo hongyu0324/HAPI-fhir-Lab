{
 "cells": [
  {
   "cell_type": "code",
   "execution_count": 1,
   "metadata": {
    "vscode": {
     "languageId": "java"
    }
   },
   "outputs": [],
   "source": [
    "%loadFromPOM pom.xml"
   ]
  },
  {
   "cell_type": "code",
   "execution_count": 2,
   "metadata": {
    "vscode": {
     "languageId": "java"
    }
   },
   "outputs": [],
   "source": [
    "import ca.uhn.fhir.context.FhirContext;\n",
    "import ca.uhn.fhir.rest.client.api.*;\n",
    "import ca.uhn.fhir.rest.api.MethodOutcome;\n",
    "import org.hl7.fhir.r4.model.*;"
   ]
  },
  {
   "cell_type": "code",
   "execution_count": 3,
   "metadata": {
    "vscode": {
     "languageId": "java"
    }
   },
   "outputs": [],
   "source": [
    "FhirContext ctx = FhirContext.forR4();\n",
    "String serverBase = \"http://localhost:8080/fhir\";\n",
    "IGenericClient client = ctx.newRestfulGenericClient(serverBase);"
   ]
  },
  {
   "cell_type": "code",
   "execution_count": 12,
   "metadata": {
    "vscode": {
     "languageId": "java"
    }
   },
   "outputs": [
    {
     "name": "stdout",
     "output_type": "stream",
     "text": [
      "Found 1 schedules\n",
      "Schedule ID: http://localhost:8080/fhir/Schedule/109/_history/1\n",
      "Schedule Service Type: null\n",
      "Schedule Actor: Kelly Smith\n",
      "Schedule Actor Reference: Practitioner/103\n"
     ]
    }
   ],
   "source": [
    "// find schedule with service type = General Practice on 2018-09-16\n",
    "Bundle results = client.search()    \n",
    "    .forResource(Schedule.class)\n",
    "    .where(Schedule.SERVICE_TYPE.exactly().code(\"124\"))\n",
    "    //with date on 2018-09-16\n",
    "    .where(Schedule.DATE.exactly().day(\"2018-09-16\"))\n",
    "    .returnBundle(Bundle.class)\n",
    "    .execute();\n",
    "\n",
    "//列印出所有的schedule所包含的practitioner\n",
    "for (Bundle.BundleEntryComponent entry : results.getEntry()) {\n",
    "    Schedule schedule = (Schedule) entry.getResource();\n",
    "    System.out.println(\"Schedule ID: \" + schedule.getId());\n",
    "    System.out.println(\"Schedule Service Type: \" + schedule.getServiceType().get(0).getText());\n",
    "    System.out.println(\"Schedule Actor: \" + schedule.getActor().get(0).getDisplay());\n",
    "    System.out.println(\"Schedule Actor Reference: \" + schedule.getActor().get(0).getReference());\n",
    "}"
   ]
  },
  {
   "cell_type": "code",
   "execution_count": null,
   "metadata": {
    "vscode": {
     "languageId": "java"
    }
   },
   "outputs": [],
   "source": []
  },
  {
   "cell_type": "markdown",
   "metadata": {},
   "source": []
  }
 ],
 "metadata": {
  "kernelspec": {
   "display_name": "Java",
   "language": "java",
   "name": "java"
  },
  "language_info": {
   "codemirror_mode": "java",
   "file_extension": ".jshell",
   "mimetype": "text/x-java-source",
   "name": "Java",
   "pygments_lexer": "java",
   "version": "17.0.9+11-LTS-201"
  }
 },
 "nbformat": 4,
 "nbformat_minor": 2
}
