{
 "cells": [
  {
   "cell_type": "code",
   "execution_count": 16,
   "metadata": {
    "vscode": {
     "languageId": "java"
    }
   },
   "outputs": [],
   "source": [
    "%loadFromPOM pom.xml"
   ]
  },
  {
   "cell_type": "code",
   "execution_count": 17,
   "metadata": {
    "vscode": {
     "languageId": "java"
    }
   },
   "outputs": [],
   "source": [
    "import ca.uhn.fhir.context.FhirContext;\n",
    "import ca.uhn.fhir.rest.client.api.*;\n",
    "import ca.uhn.fhir.rest.api.MethodOutcome;\n",
    "import org.hl7.fhir.r4.model.*;"
   ]
  },
  {
   "cell_type": "code",
   "execution_count": 18,
   "metadata": {
    "vscode": {
     "languageId": "java"
    }
   },
   "outputs": [],
   "source": [
    "FhirContext ctx = FhirContext.forR4();\n",
    "String serverBase = \"http://localhost:8080/fhir\";\n",
    "IGenericClient client = ctx.newRestfulGenericClient(serverBase);"
   ]
  },
  {
   "cell_type": "markdown",
   "metadata": {},
   "source": [
    "Create a FHIR Observation resource\n",
    "Observation.category:\n",
    "\n",
    "coding.system - http://hl7.org/fhir/observation-category\n",
    "coding.code - vital-signs\n",
    "So we were right with our category configuration. Now let's find out the code value.\n",
    "\n",
    " Observation.code:\n",
    " coding.system - http://loinc.org\n",
    " coding.code - one of the allowed vital sign result types, in our case it is 8310-5 for body temperature, \n",
    "               8480-6 for systolic blood pressure and 8462-4 for diastolic blood pressure.\n",
    " \n",
    " So we were right with our code configuration. Now let's find out the value.\n",
    " Observation.valueQuantity:\n",
    " value - the actual value of the vital sign measurement, in our case it is 96.8 for body temperature,\n",
    " unit - the unit of measurement, in our case it is °C for body temperature, mmHg for blood pressure\n",
    " system - http://unitsofmeasure.org\n",
    " code - the code for the unit of measurement, in our case it is °C for body temperature, mm[Hg] for blood pressure\n",
    " \n",
    " So we were right with our valueQuantity configuration. Now let's find out the effectiveDateTime value.\n",
    " Observation.effectiveDateTime:\n",
    " effectiveDateTime - the date and time the measurement was taken, in our case it is 2021-09-01T12:35:00+03:00"
   ]
  },
  {
   "cell_type": "code",
   "execution_count": 19,
   "metadata": {
    "vscode": {
     "languageId": "java"
    }
   },
   "outputs": [
    {
     "data": {
      "text/plain": [
       "org.hl7.fhir.r4.model.Observation@58f4b0e0"
      ]
     },
     "execution_count": 19,
     "metadata": {},
     "output_type": "execute_result"
    }
   ],
   "source": [
    "Observation observation = new Observation();\n",
    "observation.addCategory()\n",
    "    .addCoding()\n",
    "    .setSystem(\"http://hl7.org/fhir/observation-category\")\n",
    "    .setCode(\"vital-signs\");\n",
    "observation.getCode()\n",
    "    .addCoding()\n",
    "    .setSystem(\"http://loinc.org\")\n",
    "    .setCode(\"8310-5\");\n",
    "observation.setValue(\n",
    "    new Quantity()\n",
    "        .setValue(96.8)\n",
    "        .setUnit(\"degF\")\n",
    "        .setSystem(\"http://unitsofmeasure.org\")\n",
    "        .setCode(\"Cel\"));\n",
    "observation.setEffective(new DateTimeType(\"2021-09-01T12:35:00+03:00\"));\n",
    "observation.setStatus(Observation.ObservationStatus.FINAL);"
   ]
  },
  {
   "cell_type": "code",
   "execution_count": null,
   "metadata": {
    "vscode": {
     "languageId": "java"
    }
   },
   "outputs": [],
   "source": [
    "Patient patient = new Patient();\n",
    "Bundle result = client.search()\n",
    "            .forResource(Patient.class)\n",
    "            .where(Patient.FAMILY.matches().value(\"陳\")).and(Patient.GIVEN.matches().value(\"大明\"))\n",
    "            .returnBundle(Bundle.class)\n",
    "            .execute();\n",
    "patient = (Patient) result.getEntry().get(0).getResource();\n",
    "System.out.println(patient.getId());"
   ]
  },
  {
   "cell_type": "markdown",
   "metadata": {},
   "source": [
    "Patient reference is stored in Observation.subject  \n",
    "儲存Observation資料 "
   ]
  },
  {
   "cell_type": "code",
   "execution_count": null,
   "metadata": {
    "vscode": {
     "languageId": "java"
    }
   },
   "outputs": [],
   "source": [
    "observation.setSubject(new Reference(\"Patient/\" + patient.getIdElement().getIdPart()));\n",
    "// Save the observation\n",
    "MethodOutcome outcome = client.create()\n",
    "    .resource(observation)\n",
    "    .prettyPrint()\n",
    "    .encodedJson()\n",
    "    .execute();\n",
    "System.out.println(\"Created Observation, ID: \" + outcome.getId().getValue());"
   ]
  }
 ],
 "metadata": {
  "kernelspec": {
   "display_name": "Java",
   "language": "java",
   "name": "java"
  },
  "language_info": {
   "codemirror_mode": "java",
   "file_extension": ".jshell",
   "mimetype": "text/x-java-source",
   "name": "Java",
   "pygments_lexer": "java",
   "version": "17.0.9+11-LTS-201"
  }
 },
 "nbformat": 4,
 "nbformat_minor": 2
}
